{
  "nbformat": 4,
  "nbformat_minor": 0,
  "metadata": {
    "colab": {
      "provenance": [],
      "toc_visible": true,
      "mount_file_id": "1X1ZtG9h9eyBHmAfjGgL7fWlMzTKEGIpD",
      "authorship_tag": "ABX9TyM2o1btHS0hAdW7SjD2rmsd",
      "include_colab_link": true
    },
    "kernelspec": {
      "name": "python3",
      "display_name": "Python 3"
    },
    "language_info": {
      "name": "python"
    }
  },
  "cells": [
    {
      "cell_type": "markdown",
      "metadata": {
        "id": "view-in-github",
        "colab_type": "text"
      },
      "source": [
        "<a href=\"https://colab.research.google.com/github/JosstopherMaitland/Circularity_LLC/blob/main/Circularity_Modulus_Transformer_Models.ipynb\" target=\"_parent\"><img src=\"https://colab.research.google.com/assets/colab-badge.svg\" alt=\"Open In Colab\"/></a>"
      ]
    },
    {
      "cell_type": "markdown",
      "source": [
        "Taking estimates of the LLC on pizza and clock models as described in the paper: https://arxiv.org/pdf/2306.17844.pdf"
      ],
      "metadata": {
        "id": "tjZCiA55P9VH"
      }
    },
    {
      "cell_type": "markdown",
      "source": [
        "# Conceptual Notes"
      ],
      "metadata": {
        "id": "gUQ0dh0-lu2E"
      }
    },
    {
      "cell_type": "markdown",
      "source": [
        "## Gradient Symmetricity\n",
        "For a fixed set $S \\subseteq \\mathbb{Z}$\n",
        " - High gradient symmetricity indicates pizza algorithm."
      ],
      "metadata": {
        "id": "HDCQTWr-YxSa"
      }
    },
    {
      "cell_type": "markdown",
      "source": [
        "## Distance Irrelevance\n",
        "\n",
        "- Distance irrelevance ranges from 0 to 0.5 for *Pizza* algorithm and 0.5 to 1 for the *Clock* algorithm."
      ],
      "metadata": {
        "id": "4kgiawU4ZI3C"
      }
    },
    {
      "cell_type": "markdown",
      "source": [
        "# Actual Code"
      ],
      "metadata": {
        "id": "1-IK8aNjloe0"
      }
    },
    {
      "cell_type": "markdown",
      "source": [
        "## Setup"
      ],
      "metadata": {
        "id": "HbYip0sYgpgD"
      }
    },
    {
      "cell_type": "markdown",
      "source": [
        "### Installs"
      ],
      "metadata": {
        "id": "KTK7R81NlTLb"
      }
    },
    {
      "cell_type": "code",
      "execution_count": null,
      "metadata": {
        "colab": {
          "base_uri": "https://localhost:8080/"
        },
        "id": "UmA28Bgnghva",
        "outputId": "03b85339-d3e4-46cc-898e-efea37095504"
      },
      "outputs": [
        {
          "output_type": "stream",
          "name": "stdout",
          "text": [
            "Collecting devinterp\n",
            "  Downloading devinterp-0.0.2-py3-none-any.whl (25 kB)\n",
            "Requirement already satisfied: matplotlib in /usr/local/lib/python3.10/dist-packages (3.7.1)\n",
            "Requirement already satisfied: transformers in /usr/local/lib/python3.10/dist-packages (4.35.2)\n",
            "Requirement already satisfied: torchvision in /usr/local/lib/python3.10/dist-packages (0.16.0+cu118)\n",
            "Collecting einops==0.6.1 (from devinterp)\n",
            "  Downloading einops-0.6.1-py3-none-any.whl (42 kB)\n",
            "\u001b[?25l     \u001b[90m━━━━━━━━━━━━━━━━━━━━━━━━━━━━━━━━━━━━━━━━\u001b[0m \u001b[32m0.0/42.2 kB\u001b[0m \u001b[31m?\u001b[0m eta \u001b[36m-:--:--\u001b[0m\r\u001b[2K     \u001b[90m━━━━━━━━━━━━━━━━━━━━━━━━━━━━━━━━━━━━━━━━\u001b[0m \u001b[32m42.2/42.2 kB\u001b[0m \u001b[31m2.0 MB/s\u001b[0m eta \u001b[36m0:00:00\u001b[0m\n",
            "\u001b[?25hRequirement already satisfied: ipykernel==5.5.6 in /usr/local/lib/python3.10/dist-packages (from devinterp) (5.5.6)\n",
            "Collecting ipywidgets==8.0.7 (from devinterp)\n",
            "  Downloading ipywidgets-8.0.7-py3-none-any.whl (138 kB)\n",
            "\u001b[2K     \u001b[90m━━━━━━━━━━━━━━━━━━━━━━━━━━━━━━━━━━━━━━━━\u001b[0m \u001b[32m138.3/138.3 kB\u001b[0m \u001b[31m7.1 MB/s\u001b[0m eta \u001b[36m0:00:00\u001b[0m\n",
            "\u001b[?25hCollecting jupyter-core==5.3.1 (from devinterp)\n",
            "  Downloading jupyter_core-5.3.1-py3-none-any.whl (93 kB)\n",
            "\u001b[2K     \u001b[90m━━━━━━━━━━━━━━━━━━━━━━━━━━━━━━━━━━━━━━━━\u001b[0m \u001b[32m93.7/93.7 kB\u001b[0m \u001b[31m6.8 MB/s\u001b[0m eta \u001b[36m0:00:00\u001b[0m\n",
            "\u001b[?25hCollecting jupyterlab-widgets==3.0.8 (from devinterp)\n",
            "  Downloading jupyterlab_widgets-3.0.8-py3-none-any.whl (214 kB)\n",
            "\u001b[2K     \u001b[90m━━━━━━━━━━━━━━━━━━━━━━━━━━━━━━━━━━━━━━━━\u001b[0m \u001b[32m215.0/215.0 kB\u001b[0m \u001b[31m9.6 MB/s\u001b[0m eta \u001b[36m0:00:00\u001b[0m\n",
            "\u001b[?25hRequirement already satisfied: numpy==1.23.5 in /usr/local/lib/python3.10/dist-packages (from devinterp) (1.23.5)\n",
            "Requirement already satisfied: pandas==1.5.3 in /usr/local/lib/python3.10/dist-packages (from devinterp) (1.5.3)\n",
            "Collecting pydantic==2.1.1 (from devinterp)\n",
            "  Downloading pydantic-2.1.1-py3-none-any.whl (370 kB)\n",
            "\u001b[2K     \u001b[90m━━━━━━━━━━━━━━━━━━━━━━━━━━━━━━━━━━━━━━━━\u001b[0m \u001b[32m370.9/370.9 kB\u001b[0m \u001b[31m11.2 MB/s\u001b[0m eta \u001b[36m0:00:00\u001b[0m\n",
            "\u001b[?25hCollecting pydantic-core==2.4.0 (from devinterp)\n",
            "  Downloading pydantic_core-2.4.0-cp310-cp310-manylinux_2_17_x86_64.manylinux2014_x86_64.whl (1.9 MB)\n",
            "\u001b[2K     \u001b[90m━━━━━━━━━━━━━━━━━━━━━━━━━━━━━━━━━━━━━━━━\u001b[0m \u001b[32m1.9/1.9 MB\u001b[0m \u001b[31m11.0 MB/s\u001b[0m eta \u001b[36m0:00:00\u001b[0m\n",
            "\u001b[?25hCollecting torch==2.0.1 (from devinterp)\n",
            "  Downloading torch-2.0.1-cp310-cp310-manylinux1_x86_64.whl (619.9 MB)\n",
            "\u001b[2K     \u001b[90m━━━━━━━━━━━━━━━━━━━━━━━━━━━━━━━━━━━━━━━━\u001b[0m \u001b[32m619.9/619.9 MB\u001b[0m \u001b[31m1.7 MB/s\u001b[0m eta \u001b[36m0:00:00\u001b[0m\n",
            "\u001b[?25hCollecting torchtyping==0.1.4 (from devinterp)\n",
            "  Downloading torchtyping-0.1.4-py3-none-any.whl (17 kB)\n",
            "Collecting tqdm==4.65.0 (from devinterp)\n",
            "  Downloading tqdm-4.65.0-py3-none-any.whl (77 kB)\n",
            "\u001b[2K     \u001b[90m━━━━━━━━━━━━━━━━━━━━━━━━━━━━━━━━━━━━━━━━\u001b[0m \u001b[32m77.1/77.1 kB\u001b[0m \u001b[31m9.0 MB/s\u001b[0m eta \u001b[36m0:00:00\u001b[0m\n",
            "\u001b[?25hRequirement already satisfied: ipython-genutils in /usr/local/lib/python3.10/dist-packages (from ipykernel==5.5.6->devinterp) (0.2.0)\n",
            "Requirement already satisfied: ipython>=5.0.0 in /usr/local/lib/python3.10/dist-packages (from ipykernel==5.5.6->devinterp) (7.34.0)\n",
            "Requirement already satisfied: traitlets>=4.1.0 in /usr/local/lib/python3.10/dist-packages (from ipykernel==5.5.6->devinterp) (5.7.1)\n",
            "Requirement already satisfied: jupyter-client in /usr/local/lib/python3.10/dist-packages (from ipykernel==5.5.6->devinterp) (6.1.12)\n",
            "Requirement already satisfied: tornado>=4.2 in /usr/local/lib/python3.10/dist-packages (from ipykernel==5.5.6->devinterp) (6.3.2)\n",
            "Collecting widgetsnbextension~=4.0.7 (from ipywidgets==8.0.7->devinterp)\n",
            "  Downloading widgetsnbextension-4.0.9-py3-none-any.whl (2.3 MB)\n",
            "\u001b[2K     \u001b[90m━━━━━━━━━━━━━━━━━━━━━━━━━━━━━━━━━━━━━━━━\u001b[0m \u001b[32m2.3/2.3 MB\u001b[0m \u001b[31m28.4 MB/s\u001b[0m eta \u001b[36m0:00:00\u001b[0m\n",
            "\u001b[?25hRequirement already satisfied: platformdirs>=2.5 in /usr/local/lib/python3.10/dist-packages (from jupyter-core==5.3.1->devinterp) (4.0.0)\n",
            "Requirement already satisfied: python-dateutil>=2.8.1 in /usr/local/lib/python3.10/dist-packages (from pandas==1.5.3->devinterp) (2.8.2)\n",
            "Requirement already satisfied: pytz>=2020.1 in /usr/local/lib/python3.10/dist-packages (from pandas==1.5.3->devinterp) (2023.3.post1)\n",
            "Collecting annotated-types>=0.4.0 (from pydantic==2.1.1->devinterp)\n",
            "  Downloading annotated_types-0.6.0-py3-none-any.whl (12 kB)\n",
            "Collecting typing-extensions>=4.6.1 (from pydantic==2.1.1->devinterp)\n",
            "  Downloading typing_extensions-4.8.0-py3-none-any.whl (31 kB)\n",
            "Requirement already satisfied: filelock in /usr/local/lib/python3.10/dist-packages (from torch==2.0.1->devinterp) (3.13.1)\n",
            "Requirement already satisfied: sympy in /usr/local/lib/python3.10/dist-packages (from torch==2.0.1->devinterp) (1.12)\n",
            "Requirement already satisfied: networkx in /usr/local/lib/python3.10/dist-packages (from torch==2.0.1->devinterp) (3.2.1)\n",
            "Requirement already satisfied: jinja2 in /usr/local/lib/python3.10/dist-packages (from torch==2.0.1->devinterp) (3.1.2)\n",
            "Collecting nvidia-cuda-nvrtc-cu11==11.7.99 (from torch==2.0.1->devinterp)\n",
            "  Downloading nvidia_cuda_nvrtc_cu11-11.7.99-2-py3-none-manylinux1_x86_64.whl (21.0 MB)\n",
            "\u001b[2K     \u001b[90m━━━━━━━━━━━━━━━━━━━━━━━━━━━━━━━━━━━━━━━━\u001b[0m \u001b[32m21.0/21.0 MB\u001b[0m \u001b[31m39.0 MB/s\u001b[0m eta \u001b[36m0:00:00\u001b[0m\n",
            "\u001b[?25hCollecting nvidia-cuda-runtime-cu11==11.7.99 (from torch==2.0.1->devinterp)\n",
            "  Downloading nvidia_cuda_runtime_cu11-11.7.99-py3-none-manylinux1_x86_64.whl (849 kB)\n",
            "\u001b[2K     \u001b[90m━━━━━━━━━━━━━━━━━━━━━━━━━━━━━━━━━━━━━━━━\u001b[0m \u001b[32m849.3/849.3 kB\u001b[0m \u001b[31m38.4 MB/s\u001b[0m eta \u001b[36m0:00:00\u001b[0m\n",
            "\u001b[?25hCollecting nvidia-cuda-cupti-cu11==11.7.101 (from torch==2.0.1->devinterp)\n",
            "  Downloading nvidia_cuda_cupti_cu11-11.7.101-py3-none-manylinux1_x86_64.whl (11.8 MB)\n",
            "\u001b[2K     \u001b[90m━━━━━━━━━━━━━━━━━━━━━━━━━━━━━━━━━━━━━━━━\u001b[0m \u001b[32m11.8/11.8 MB\u001b[0m \u001b[31m77.4 MB/s\u001b[0m eta \u001b[36m0:00:00\u001b[0m\n",
            "\u001b[?25hCollecting nvidia-cudnn-cu11==8.5.0.96 (from torch==2.0.1->devinterp)\n",
            "  Downloading nvidia_cudnn_cu11-8.5.0.96-2-py3-none-manylinux1_x86_64.whl (557.1 MB)\n",
            "\u001b[2K     \u001b[90m━━━━━━━━━━━━━━━━━━━━━━━━━━━━━━━━━━━━━━━━\u001b[0m \u001b[32m557.1/557.1 MB\u001b[0m \u001b[31m3.0 MB/s\u001b[0m eta \u001b[36m0:00:00\u001b[0m\n",
            "\u001b[?25hCollecting nvidia-cublas-cu11==11.10.3.66 (from torch==2.0.1->devinterp)\n",
            "  Downloading nvidia_cublas_cu11-11.10.3.66-py3-none-manylinux1_x86_64.whl (317.1 MB)\n",
            "\u001b[2K     \u001b[90m━━━━━━━━━━━━━━━━━━━━━━━━━━━━━━━━━━━━━━━━\u001b[0m \u001b[32m317.1/317.1 MB\u001b[0m \u001b[31m4.4 MB/s\u001b[0m eta \u001b[36m0:00:00\u001b[0m\n",
            "\u001b[?25hCollecting nvidia-cufft-cu11==10.9.0.58 (from torch==2.0.1->devinterp)\n",
            "  Downloading nvidia_cufft_cu11-10.9.0.58-py3-none-manylinux1_x86_64.whl (168.4 MB)\n",
            "\u001b[2K     \u001b[90m━━━━━━━━━━━━━━━━━━━━━━━━━━━━━━━━━━━━━━━━\u001b[0m \u001b[32m168.4/168.4 MB\u001b[0m \u001b[31m6.7 MB/s\u001b[0m eta \u001b[36m0:00:00\u001b[0m\n",
            "\u001b[?25hCollecting nvidia-curand-cu11==10.2.10.91 (from torch==2.0.1->devinterp)\n",
            "  Downloading nvidia_curand_cu11-10.2.10.91-py3-none-manylinux1_x86_64.whl (54.6 MB)\n",
            "\u001b[2K     \u001b[90m━━━━━━━━━━━━━━━━━━━━━━━━━━━━━━━━━━━━━━━━\u001b[0m \u001b[32m54.6/54.6 MB\u001b[0m \u001b[31m11.3 MB/s\u001b[0m eta \u001b[36m0:00:00\u001b[0m\n",
            "\u001b[?25hCollecting nvidia-cusolver-cu11==11.4.0.1 (from torch==2.0.1->devinterp)\n",
            "  Downloading nvidia_cusolver_cu11-11.4.0.1-2-py3-none-manylinux1_x86_64.whl (102.6 MB)\n",
            "\u001b[2K     \u001b[90m━━━━━━━━━━━━━━━━━━━━━━━━━━━━━━━━━━━━━━━━\u001b[0m \u001b[32m102.6/102.6 MB\u001b[0m \u001b[31m9.0 MB/s\u001b[0m eta \u001b[36m0:00:00\u001b[0m\n",
            "\u001b[?25hCollecting nvidia-cusparse-cu11==11.7.4.91 (from torch==2.0.1->devinterp)\n",
            "  Downloading nvidia_cusparse_cu11-11.7.4.91-py3-none-manylinux1_x86_64.whl (173.2 MB)\n",
            "\u001b[2K     \u001b[90m━━━━━━━━━━━━━━━━━━━━━━━━━━━━━━━━━━━━━━━━\u001b[0m \u001b[32m173.2/173.2 MB\u001b[0m \u001b[31m6.6 MB/s\u001b[0m eta \u001b[36m0:00:00\u001b[0m\n",
            "\u001b[?25hCollecting nvidia-nccl-cu11==2.14.3 (from torch==2.0.1->devinterp)\n",
            "  Downloading nvidia_nccl_cu11-2.14.3-py3-none-manylinux1_x86_64.whl (177.1 MB)\n",
            "\u001b[2K     \u001b[90m━━━━━━━━━━━━━━━━━━━━━━━━━━━━━━━━━━━━━━━━\u001b[0m \u001b[32m177.1/177.1 MB\u001b[0m \u001b[31m6.6 MB/s\u001b[0m eta \u001b[36m0:00:00\u001b[0m\n",
            "\u001b[?25hCollecting nvidia-nvtx-cu11==11.7.91 (from torch==2.0.1->devinterp)\n",
            "  Downloading nvidia_nvtx_cu11-11.7.91-py3-none-manylinux1_x86_64.whl (98 kB)\n",
            "\u001b[2K     \u001b[90m━━━━━━━━━━━━━━━━━━━━━━━━━━━━━━━━━━━━━━━━\u001b[0m \u001b[32m98.6/98.6 kB\u001b[0m \u001b[31m13.5 MB/s\u001b[0m eta \u001b[36m0:00:00\u001b[0m\n",
            "\u001b[?25hCollecting triton==2.0.0 (from torch==2.0.1->devinterp)\n",
            "  Downloading triton-2.0.0-1-cp310-cp310-manylinux2014_x86_64.manylinux_2_17_x86_64.whl (63.3 MB)\n",
            "\u001b[2K     \u001b[90m━━━━━━━━━━━━━━━━━━━━━━━━━━━━━━━━━━━━━━━━\u001b[0m \u001b[32m63.3/63.3 MB\u001b[0m \u001b[31m10.9 MB/s\u001b[0m eta \u001b[36m0:00:00\u001b[0m\n",
            "\u001b[?25hCollecting typeguard>=2.11.1 (from torchtyping==0.1.4->devinterp)\n",
            "  Downloading typeguard-4.1.5-py3-none-any.whl (34 kB)\n",
            "Requirement already satisfied: setuptools in /usr/local/lib/python3.10/dist-packages (from nvidia-cublas-cu11==11.10.3.66->torch==2.0.1->devinterp) (67.7.2)\n",
            "Requirement already satisfied: wheel in /usr/local/lib/python3.10/dist-packages (from nvidia-cublas-cu11==11.10.3.66->torch==2.0.1->devinterp) (0.41.3)\n",
            "Requirement already satisfied: cmake in /usr/local/lib/python3.10/dist-packages (from triton==2.0.0->torch==2.0.1->devinterp) (3.27.7)\n",
            "Collecting lit (from triton==2.0.0->torch==2.0.1->devinterp)\n",
            "  Downloading lit-17.0.5.tar.gz (153 kB)\n",
            "\u001b[2K     \u001b[90m━━━━━━━━━━━━━━━━━━━━━━━━━━━━━━━━━━━━━━━━\u001b[0m \u001b[32m153.0/153.0 kB\u001b[0m \u001b[31m18.0 MB/s\u001b[0m eta \u001b[36m0:00:00\u001b[0m\n",
            "\u001b[?25h  Installing build dependencies ... \u001b[?25l\u001b[?25hdone\n",
            "  Getting requirements to build wheel ... \u001b[?25l\u001b[?25hdone\n",
            "  Installing backend dependencies ... \u001b[?25l\u001b[?25hdone\n",
            "  Preparing metadata (pyproject.toml) ... \u001b[?25l\u001b[?25hdone\n",
            "Requirement already satisfied: contourpy>=1.0.1 in /usr/local/lib/python3.10/dist-packages (from matplotlib) (1.2.0)\n",
            "Requirement already satisfied: cycler>=0.10 in /usr/local/lib/python3.10/dist-packages (from matplotlib) (0.12.1)\n",
            "Requirement already satisfied: fonttools>=4.22.0 in /usr/local/lib/python3.10/dist-packages (from matplotlib) (4.44.3)\n",
            "Requirement already satisfied: kiwisolver>=1.0.1 in /usr/local/lib/python3.10/dist-packages (from matplotlib) (1.4.5)\n",
            "Requirement already satisfied: packaging>=20.0 in /usr/local/lib/python3.10/dist-packages (from matplotlib) (23.2)\n",
            "Requirement already satisfied: pillow>=6.2.0 in /usr/local/lib/python3.10/dist-packages (from matplotlib) (9.4.0)\n",
            "Requirement already satisfied: pyparsing>=2.3.1 in /usr/local/lib/python3.10/dist-packages (from matplotlib) (3.1.1)\n",
            "Requirement already satisfied: huggingface-hub<1.0,>=0.16.4 in /usr/local/lib/python3.10/dist-packages (from transformers) (0.19.3)\n",
            "Requirement already satisfied: pyyaml>=5.1 in /usr/local/lib/python3.10/dist-packages (from transformers) (6.0.1)\n",
            "Requirement already satisfied: regex!=2019.12.17 in /usr/local/lib/python3.10/dist-packages (from transformers) (2023.6.3)\n",
            "Requirement already satisfied: requests in /usr/local/lib/python3.10/dist-packages (from transformers) (2.31.0)\n",
            "Requirement already satisfied: tokenizers<0.19,>=0.14 in /usr/local/lib/python3.10/dist-packages (from transformers) (0.15.0)\n",
            "Requirement already satisfied: safetensors>=0.3.1 in /usr/local/lib/python3.10/dist-packages (from transformers) (0.4.0)\n",
            "INFO: pip is looking at multiple versions of torchvision to determine which version is compatible with other requirements. This could take a while.\n",
            "Collecting torchvision\n",
            "  Downloading torchvision-0.16.1-cp310-cp310-manylinux1_x86_64.whl (6.8 MB)\n",
            "\u001b[2K     \u001b[90m━━━━━━━━━━━━━━━━━━━━━━━━━━━━━━━━━━━━━━━━\u001b[0m \u001b[32m6.8/6.8 MB\u001b[0m \u001b[31m85.2 MB/s\u001b[0m eta \u001b[36m0:00:00\u001b[0m\n",
            "\u001b[?25h  Downloading torchvision-0.16.0-cp310-cp310-manylinux1_x86_64.whl (6.9 MB)\n",
            "\u001b[2K     \u001b[90m━━━━━━━━━━━━━━━━━━━━━━━━━━━━━━━━━━━━━━━━\u001b[0m \u001b[32m6.9/6.9 MB\u001b[0m \u001b[31m82.3 MB/s\u001b[0m eta \u001b[36m0:00:00\u001b[0m\n",
            "\u001b[?25h  Downloading torchvision-0.15.2-cp310-cp310-manylinux1_x86_64.whl (6.0 MB)\n",
            "\u001b[2K     \u001b[90m━━━━━━━━━━━━━━━━━━━━━━━━━━━━━━━━━━━━━━━━\u001b[0m \u001b[32m6.0/6.0 MB\u001b[0m \u001b[31m81.5 MB/s\u001b[0m eta \u001b[36m0:00:00\u001b[0m\n",
            "\u001b[?25hRequirement already satisfied: fsspec>=2023.5.0 in /usr/local/lib/python3.10/dist-packages (from huggingface-hub<1.0,>=0.16.4->transformers) (2023.6.0)\n",
            "Requirement already satisfied: six>=1.5 in /usr/local/lib/python3.10/dist-packages (from python-dateutil>=2.8.1->pandas==1.5.3->devinterp) (1.16.0)\n",
            "Requirement already satisfied: charset-normalizer<4,>=2 in /usr/local/lib/python3.10/dist-packages (from requests->transformers) (3.3.2)\n",
            "Requirement already satisfied: idna<4,>=2.5 in /usr/local/lib/python3.10/dist-packages (from requests->transformers) (3.4)\n",
            "Requirement already satisfied: urllib3<3,>=1.21.1 in /usr/local/lib/python3.10/dist-packages (from requests->transformers) (2.0.7)\n",
            "Requirement already satisfied: certifi>=2017.4.17 in /usr/local/lib/python3.10/dist-packages (from requests->transformers) (2023.7.22)\n",
            "Collecting jedi>=0.16 (from ipython>=5.0.0->ipykernel==5.5.6->devinterp)\n",
            "  Downloading jedi-0.19.1-py2.py3-none-any.whl (1.6 MB)\n",
            "\u001b[2K     \u001b[90m━━━━━━━━━━━━━━━━━━━━━━━━━━━━━━━━━━━━━━━━\u001b[0m \u001b[32m1.6/1.6 MB\u001b[0m \u001b[31m72.3 MB/s\u001b[0m eta \u001b[36m0:00:00\u001b[0m\n",
            "\u001b[?25hRequirement already satisfied: decorator in /usr/local/lib/python3.10/dist-packages (from ipython>=5.0.0->ipykernel==5.5.6->devinterp) (4.4.2)\n",
            "Requirement already satisfied: pickleshare in /usr/local/lib/python3.10/dist-packages (from ipython>=5.0.0->ipykernel==5.5.6->devinterp) (0.7.5)\n",
            "Requirement already satisfied: prompt-toolkit!=3.0.0,!=3.0.1,<3.1.0,>=2.0.0 in /usr/local/lib/python3.10/dist-packages (from ipython>=5.0.0->ipykernel==5.5.6->devinterp) (3.0.41)\n",
            "Requirement already satisfied: pygments in /usr/local/lib/python3.10/dist-packages (from ipython>=5.0.0->ipykernel==5.5.6->devinterp) (2.16.1)\n",
            "Requirement already satisfied: backcall in /usr/local/lib/python3.10/dist-packages (from ipython>=5.0.0->ipykernel==5.5.6->devinterp) (0.2.0)\n",
            "Requirement already satisfied: matplotlib-inline in /usr/local/lib/python3.10/dist-packages (from ipython>=5.0.0->ipykernel==5.5.6->devinterp) (0.1.6)\n",
            "Requirement already satisfied: pexpect>4.3 in /usr/local/lib/python3.10/dist-packages (from ipython>=5.0.0->ipykernel==5.5.6->devinterp) (4.8.0)\n",
            "Requirement already satisfied: MarkupSafe>=2.0 in /usr/local/lib/python3.10/dist-packages (from jinja2->torch==2.0.1->devinterp) (2.1.3)\n",
            "Requirement already satisfied: pyzmq>=13 in /usr/local/lib/python3.10/dist-packages (from jupyter-client->ipykernel==5.5.6->devinterp) (23.2.1)\n",
            "Requirement already satisfied: mpmath>=0.19 in /usr/local/lib/python3.10/dist-packages (from sympy->torch==2.0.1->devinterp) (1.3.0)\n",
            "Requirement already satisfied: parso<0.9.0,>=0.8.3 in /usr/local/lib/python3.10/dist-packages (from jedi>=0.16->ipython>=5.0.0->ipykernel==5.5.6->devinterp) (0.8.3)\n",
            "Requirement already satisfied: ptyprocess>=0.5 in /usr/local/lib/python3.10/dist-packages (from pexpect>4.3->ipython>=5.0.0->ipykernel==5.5.6->devinterp) (0.7.0)\n",
            "Requirement already satisfied: wcwidth in /usr/local/lib/python3.10/dist-packages (from prompt-toolkit!=3.0.0,!=3.0.1,<3.1.0,>=2.0.0->ipython>=5.0.0->ipykernel==5.5.6->devinterp) (0.2.10)\n",
            "Building wheels for collected packages: lit\n",
            "  Building wheel for lit (pyproject.toml) ... \u001b[?25l\u001b[?25hdone\n",
            "  Created wheel for lit: filename=lit-17.0.5-py3-none-any.whl size=93256 sha256=77d6b57ff7213868a5171c6ace3e8ff45e94e7e6b646c719abadfc9d9f2f5078\n",
            "  Stored in directory: /root/.cache/pip/wheels/1c/87/8e/5a42c0d4be23362b68bbff33b17f3c35a3df44f1cd2f5a24b4\n",
            "Successfully built lit\n",
            "Installing collected packages: lit, widgetsnbextension, typing-extensions, tqdm, nvidia-nvtx-cu11, nvidia-nccl-cu11, nvidia-cusparse-cu11, nvidia-curand-cu11, nvidia-cufft-cu11, nvidia-cuda-runtime-cu11, nvidia-cuda-nvrtc-cu11, nvidia-cuda-cupti-cu11, nvidia-cublas-cu11, jupyterlab-widgets, jupyter-core, jedi, einops, annotated-types, typeguard, pydantic-core, nvidia-cusolver-cu11, nvidia-cudnn-cu11, pydantic, ipywidgets, triton, torch, torchtyping, torchvision, devinterp\n",
            "  Attempting uninstall: widgetsnbextension\n",
            "    Found existing installation: widgetsnbextension 3.6.6\n",
            "    Uninstalling widgetsnbextension-3.6.6:\n",
            "      Successfully uninstalled widgetsnbextension-3.6.6\n",
            "  Attempting uninstall: typing-extensions\n",
            "    Found existing installation: typing_extensions 4.5.0\n",
            "    Uninstalling typing_extensions-4.5.0:\n",
            "      Successfully uninstalled typing_extensions-4.5.0\n",
            "  Attempting uninstall: tqdm\n",
            "    Found existing installation: tqdm 4.66.1\n",
            "    Uninstalling tqdm-4.66.1:\n",
            "      Successfully uninstalled tqdm-4.66.1\n",
            "  Attempting uninstall: jupyterlab-widgets\n",
            "    Found existing installation: jupyterlab-widgets 3.0.9\n",
            "    Uninstalling jupyterlab-widgets-3.0.9:\n",
            "      Successfully uninstalled jupyterlab-widgets-3.0.9\n",
            "  Attempting uninstall: jupyter-core\n",
            "    Found existing installation: jupyter_core 5.5.0\n",
            "    Uninstalling jupyter_core-5.5.0:\n",
            "      Successfully uninstalled jupyter_core-5.5.0\n",
            "  Attempting uninstall: pydantic\n",
            "    Found existing installation: pydantic 1.10.13\n",
            "    Uninstalling pydantic-1.10.13:\n",
            "      Successfully uninstalled pydantic-1.10.13\n",
            "  Attempting uninstall: ipywidgets\n",
            "    Found existing installation: ipywidgets 7.7.1\n",
            "    Uninstalling ipywidgets-7.7.1:\n",
            "      Successfully uninstalled ipywidgets-7.7.1\n",
            "  Attempting uninstall: triton\n",
            "    Found existing installation: triton 2.1.0\n",
            "    Uninstalling triton-2.1.0:\n",
            "      Successfully uninstalled triton-2.1.0\n",
            "  Attempting uninstall: torch\n",
            "    Found existing installation: torch 2.1.0+cu118\n",
            "    Uninstalling torch-2.1.0+cu118:\n",
            "      Successfully uninstalled torch-2.1.0+cu118\n",
            "  Attempting uninstall: torchvision\n",
            "    Found existing installation: torchvision 0.16.0+cu118\n",
            "    Uninstalling torchvision-0.16.0+cu118:\n",
            "      Successfully uninstalled torchvision-0.16.0+cu118\n",
            "\u001b[31mERROR: pip's dependency resolver does not currently take into account all the packages that are installed. This behaviour is the source of the following dependency conflicts.\n",
            "lida 0.0.10 requires fastapi, which is not installed.\n",
            "lida 0.0.10 requires kaleido, which is not installed.\n",
            "lida 0.0.10 requires python-multipart, which is not installed.\n",
            "lida 0.0.10 requires uvicorn, which is not installed.\n",
            "llmx 0.0.15a0 requires cohere, which is not installed.\n",
            "llmx 0.0.15a0 requires openai, which is not installed.\n",
            "llmx 0.0.15a0 requires tiktoken, which is not installed.\n",
            "tensorflow-probability 0.22.0 requires typing-extensions<4.6.0, but you have typing-extensions 4.8.0 which is incompatible.\n",
            "torchaudio 2.1.0+cu118 requires torch==2.1.0, but you have torch 2.0.1 which is incompatible.\n",
            "torchdata 0.7.0 requires torch==2.1.0, but you have torch 2.0.1 which is incompatible.\n",
            "torchtext 0.16.0 requires torch==2.1.0, but you have torch 2.0.1 which is incompatible.\u001b[0m\u001b[31m\n",
            "\u001b[0mSuccessfully installed annotated-types-0.6.0 devinterp-0.0.2 einops-0.6.1 ipywidgets-8.0.7 jedi-0.19.1 jupyter-core-5.3.1 jupyterlab-widgets-3.0.8 lit-17.0.5 nvidia-cublas-cu11-11.10.3.66 nvidia-cuda-cupti-cu11-11.7.101 nvidia-cuda-nvrtc-cu11-11.7.99 nvidia-cuda-runtime-cu11-11.7.99 nvidia-cudnn-cu11-8.5.0.96 nvidia-cufft-cu11-10.9.0.58 nvidia-curand-cu11-10.2.10.91 nvidia-cusolver-cu11-11.4.0.1 nvidia-cusparse-cu11-11.7.4.91 nvidia-nccl-cu11-2.14.3 nvidia-nvtx-cu11-11.7.91 pydantic-2.1.1 pydantic-core-2.4.0 torch-2.0.1 torchtyping-0.1.4 torchvision-0.15.2 tqdm-4.65.0 triton-2.0.0 typeguard-4.1.5 typing-extensions-4.8.0 widgetsnbextension-4.0.9\n"
          ]
        }
      ],
      "source": [
        "%pip install devinterp matplotlib transformers torchvision"
      ]
    },
    {
      "cell_type": "markdown",
      "source": [
        "### Imports"
      ],
      "metadata": {
        "id": "z1zOrjpBlUd8"
      }
    },
    {
      "cell_type": "code",
      "source": [
        "from typing import Any, Callable, Literal, Dict, List, Tuple, Optional, Union\n",
        "\n",
        "from itertools import product, permutations\n",
        "import logging\n",
        "import os\n",
        "from pathlib import Path\n",
        "import time\n",
        "\n",
        "import numpy as np\n",
        "import pydantic\n",
        "import torch\n",
        "import torch.nn as nn\n",
        "import torch.nn.functional as F\n",
        "from torch import optim\n",
        "from dataclasses import dataclass\n",
        "from pydantic import BaseModel\n",
        "\n",
        "import matplotlib.pyplot as plt\n",
        "import pandas as pd\n",
        "import seaborn as sns\n",
        "from tqdm import tqdm"
      ],
      "metadata": {
        "id": "YRFn7ceMZ2wD"
      },
      "execution_count": null,
      "outputs": []
    },
    {
      "cell_type": "code",
      "source": [
        "import einops"
      ],
      "metadata": {
        "id": "T-jXo1jtquYg",
        "colab": {
          "base_uri": "https://localhost:8080/",
          "height": 322
        },
        "outputId": "c6af14b9-21f5-4d01-a0eb-1a63701e77a9"
      },
      "execution_count": null,
      "outputs": [
        {
          "output_type": "error",
          "ename": "ModuleNotFoundError",
          "evalue": "No module named 'einops'",
          "traceback": [
            "\u001b[0;31m---------------------------------------------------------------------------\u001b[0m",
            "\u001b[0;31mModuleNotFoundError\u001b[0m                       Traceback (most recent call last)",
            "\u001b[0;32m<ipython-input-2-1e09f6d98d90>\u001b[0m in \u001b[0;36m<cell line: 1>\u001b[0;34m()\u001b[0m\n\u001b[0;32m----> 1\u001b[0;31m \u001b[0;32mimport\u001b[0m \u001b[0meinops\u001b[0m\u001b[0;34m\u001b[0m\u001b[0;34m\u001b[0m\u001b[0m\n\u001b[0m",
            "\u001b[0;31mModuleNotFoundError\u001b[0m: No module named 'einops'",
            "",
            "\u001b[0;31m---------------------------------------------------------------------------\u001b[0;32m\nNOTE: If your import is failing due to a missing package, you can\nmanually install dependencies using either !pip or !apt.\n\nTo view examples of installing some common dependencies, click the\n\"Open Examples\" button below.\n\u001b[0;31m---------------------------------------------------------------------------\u001b[0m\n"
          ],
          "errorDetails": {
            "actions": [
              {
                "action": "open_url",
                "actionText": "Open Examples",
                "url": "/notebooks/snippets/importing_libraries.ipynb"
              }
            ]
          }
        }
      ]
    },
    {
      "cell_type": "code",
      "source": [
        "from devinterp.slt import estimate_learning_coeff\n",
        "from devinterp.zoo.arithmetic import ModularArithmeticConfig, ModularArithmetic\n",
        "from devinterp.optim.sgld import SGLD"
      ],
      "metadata": {
        "id": "jrl9YS36qrvS"
      },
      "execution_count": null,
      "outputs": []
    },
    {
      "cell_type": "markdown",
      "source": [
        "### Other"
      ],
      "metadata": {
        "id": "XxbjBgV4jzWs"
      }
    },
    {
      "cell_type": "code",
      "source": [
        "logging.basicConfig(level=logging.INFO)\n",
        "\n",
        "sns.set_palette(\"deep\")\n",
        "sns.set_style(\"whitegrid\")\n",
        "\n",
        "MODELS_PATH = Path(\"models\")\n",
        "\n",
        "if not os.path.exists(MODELS_PATH):\n",
        "    os.makedirs(MODELS_PATH)\n",
        "\n",
        "PRIMARY, SECONDARY, TERTIARY = sns.color_palette(\"deep\")[:3]\n",
        "PRIMARY_LIGHT, SECONDARY_LIGHT, TERTIARY_LIGHT = sns.color_palette(\"muted\")[:3]\n",
        "\n",
        "DEVICE = os.environ.get(\n",
        "    \"DEVICE\",\n",
        "    \"cuda:0\"\n",
        "    if torch.cuda.is_available()\n",
        "    else \"mps\"\n",
        "    if torch.backends.mps.is_available()\n",
        "    else \"cpu\",\n",
        ")\n",
        "DEVICE = torch.device(DEVICE)\n",
        "NUM_CORES = int(os.environ.get(\"NUM_CORES\", 1))"
      ],
      "metadata": {
        "id": "ScoeX1MottMG"
      },
      "execution_count": null,
      "outputs": []
    },
    {
      "cell_type": "code",
      "source": [
        "DEVICE"
      ],
      "metadata": {
        "colab": {
          "base_uri": "https://localhost:8080/"
        },
        "id": "fS6hZEKt8FJO",
        "outputId": "ae31d6e6-20d9-48dd-da99-5dbc62e74ecb"
      },
      "execution_count": null,
      "outputs": [
        {
          "output_type": "execute_result",
          "data": {
            "text/plain": [
              "device(type='cuda', index=0)"
            ]
          },
          "metadata": {},
          "execution_count": 152
        }
      ]
    },
    {
      "cell_type": "markdown",
      "source": [
        "### Model"
      ],
      "metadata": {
        "id": "VXlkCkDm2RDI"
      }
    },
    {
      "cell_type": "markdown",
      "source": [
        "Create a generic transformer model with the attention rate hyper parameter as proposed in [The Clock and the Pizza](https://arxiv.org/pdf/2306.17844.pdf) Section 4.2. This is perhaps overkill, as I'm only interested in creating models A and B from the paper with attention rate $\\alpha = 0$ and $\\alpha = 1$ respectively. If I find time though, it would be interesting to study models with $\\alpha \\in (0,1)$."
      ],
      "metadata": {
        "id": "6VEuS7rOaH27"
      }
    },
    {
      "cell_type": "markdown",
      "source": [
        "- Attention is bidirectional.\n",
        " - no lower triangular mask, only softmax\n",
        "- No LayerNorm.\n",
        "- Attention rate.\n",
        "- ReLU activation function"
      ],
      "metadata": {
        "id": "3qT6NF2QbntD"
      }
    },
    {
      "cell_type": "code",
      "source": [
        "scalar = 0\n",
        "matrix = torch.tensor([[[1,2,3],[4,5,6],[7,8,9]], [[1,2,3],[4,5,6],[7,8,9]]])\n",
        "print(scalar * matrix)\n",
        "print((1-scalar) * torch.eye(3))\n",
        "print(scalar * matrix + (1-scalar) * torch.eye(3))"
      ],
      "metadata": {
        "colab": {
          "base_uri": "https://localhost:8080/"
        },
        "id": "aAQb6BKe1iYo",
        "outputId": "5b82ddc4-e119-4f53-c2f8-b77aa594ecf8"
      },
      "execution_count": null,
      "outputs": [
        {
          "output_type": "stream",
          "name": "stdout",
          "text": [
            "tensor([[[0, 0, 0],\n",
            "         [0, 0, 0],\n",
            "         [0, 0, 0]],\n",
            "\n",
            "        [[0, 0, 0],\n",
            "         [0, 0, 0],\n",
            "         [0, 0, 0]]])\n",
            "tensor([[1., 0., 0.],\n",
            "        [0., 1., 0.],\n",
            "        [0., 0., 1.]])\n",
            "tensor([[[1., 0., 0.],\n",
            "         [0., 1., 0.],\n",
            "         [0., 0., 1.]],\n",
            "\n",
            "        [[1., 0., 0.],\n",
            "         [0., 1., 0.],\n",
            "         [0., 0., 1.]]])\n"
          ]
        }
      ]
    },
    {
      "cell_type": "code",
      "source": [
        "class Embed(nn.Module):\n",
        "    def __init__(self, d_vocab: int, d_model: int):\n",
        "        super().__init__()\n",
        "        self.W_E = nn.Parameter(torch.randn(d_model, d_vocab) / np.sqrt(d_model))\n",
        "\n",
        "    def forward(self, x):\n",
        "        return torch.einsum(\"dbp -> bpd\", self.W_E[:, x])\n",
        "\n",
        "\n",
        "class Unembed(nn.Module):\n",
        "    def __init__(self, d_vocab: int, d_model: int):\n",
        "        super().__init__()\n",
        "        self.W_U = nn.Parameter(torch.randn(d_model, d_vocab) / np.sqrt(d_vocab))\n",
        "\n",
        "    def forward(self, x):\n",
        "        return x @ self.W_U\n",
        "\n",
        "\n",
        "class PosEmbed(nn.Module):\n",
        "    def __init__(self, max_ctx: int, d_model: int):\n",
        "        super().__init__()\n",
        "        self.W_pos = nn.Parameter(torch.randn(max_ctx, d_model) / np.sqrt(d_model))\n",
        "\n",
        "    def forward(self, x):\n",
        "        return x + self.W_pos[: x.shape[-2]]\n",
        "\n",
        "\n",
        "class Attention(nn.Module):\n",
        "    def __init__(self, d_model, num_heads, d_head, num_ctx, attn_rate):\n",
        "        super().__init__()\n",
        "        self.W_K = nn.Parameter(torch.randn(num_heads, d_head, d_model) / np.sqrt(d_model))\n",
        "        self.W_Q = nn.Parameter(torch.randn(num_heads, d_head, d_model) / np.sqrt(d_model))\n",
        "        self.W_V = nn.Parameter(torch.randn(num_heads, d_head, d_model) / np.sqrt(d_model))\n",
        "        self.W_O = nn.Parameter(torch.randn(d_model, d_head * num_heads) / np.sqrt(d_model))\n",
        "        self.d_head = d_head\n",
        "        self.attn_rate = attn_rate\n",
        "        self.identity = torch.eye(num_ctx, device = DEVICE)\n",
        "\n",
        "    def forward(self, x):\n",
        "        k = torch.einsum(\"ihd,bpd->biph\", self.W_K, x)\n",
        "        q = torch.einsum(\"ihd,bpd->biph\", self.W_Q, x)\n",
        "        v = torch.einsum(\"ihd,bpd->biph\", self.W_V, x)\n",
        "        attn_scores_pre = torch.einsum(\"biph,biqh->biqp\", k, q)\n",
        "\n",
        "        attn_matrix = F.softmax(attn_scores_pre / np.sqrt(self.d_head), dim=-1)\n",
        "\n",
        "        interp_attn_matrix = self.attn_rate * attn_matrix + (1 - self.attn_rate) * self.identity\n",
        "\n",
        "        z = torch.einsum(\"biph,biqp->biqh\", v, interp_attn_matrix)\n",
        "        z_flat = einops.rearrange(z, \"b i q h -> b q (i h)\")\n",
        "        out = torch.einsum(\"df,bqf->bqd\", self.W_O, z_flat)\n",
        "        return out\n",
        "\n",
        "\n",
        "class MLP(nn.Module):\n",
        "    def __init__(self, d_model: int, d_mlp: int, act_fn: Callable = F.relu):\n",
        "        super().__init__()\n",
        "        self.W_in = nn.Parameter(torch.randn(d_mlp, d_model) / np.sqrt(d_model))\n",
        "        self.b_in = nn.Parameter(torch.zeros(d_mlp))\n",
        "        self.W_out = nn.Parameter(torch.randn(d_model, d_mlp) / np.sqrt(d_model))\n",
        "        self.b_out = nn.Parameter(torch.zeros(d_model))\n",
        "        self.act_fn = act_fn\n",
        "\n",
        "    def forward(self, x):\n",
        "        x = torch.einsum(\"md,bpd->bpm\", self.W_in, x) + self.b_in\n",
        "        x = self.act_fn(x)\n",
        "        x = torch.einsum(\"dm,bpm->bpd\", self.W_out, x) + self.b_out\n",
        "\n",
        "        return x\n",
        "\n",
        "\n",
        "class TransformerBlock(nn.Module):\n",
        "    def __init__(\n",
        "        self,\n",
        "        d_model: int,\n",
        "        d_mlp: int,\n",
        "        d_head: int,\n",
        "        num_heads: int,\n",
        "        num_ctx: int,\n",
        "        attn_rate: int,\n",
        "        act_fn: Callable = F.relu,\n",
        "    ):\n",
        "        super().__init__()\n",
        "        self.attn = Attention(d_model, num_heads, d_head, num_ctx, attn_rate)\n",
        "        self.mlp = MLP(d_model, d_mlp, act_fn)\n",
        "\n",
        "    def forward(self, x):\n",
        "        x = x + self.attn(x)\n",
        "        x = x + self.mlp((x))\n",
        "        return x\n",
        "\n",
        "\n",
        "class Transformer(nn.Module):\n",
        "    def __init__(\n",
        "        self,\n",
        "        num_layers: int,\n",
        "        d_vocab: int,\n",
        "        d_model: int,\n",
        "        d_mlp: int,\n",
        "        d_head: int,\n",
        "        num_heads: int,\n",
        "        num_ctx: int,\n",
        "        attn_rate: int,\n",
        "        act_fn: Callable = F.relu,\n",
        "    ):\n",
        "        super().__init__()\n",
        "\n",
        "        self.embed = Embed(d_vocab, d_model)\n",
        "        self.pos_embed = PosEmbed(num_ctx, d_model)\n",
        "        self.blocks = nn.ModuleList(\n",
        "            [\n",
        "                TransformerBlock(d_model, d_mlp, d_head, num_heads, num_ctx, attn_rate, act_fn)\n",
        "                for i in range(num_layers)\n",
        "            ]\n",
        "        )\n",
        "        self.unembed = Unembed(d_vocab, d_model)\n",
        "\n",
        "    def forward(self, x):\n",
        "        x = self.embed(x)\n",
        "        x = self.pos_embed(x)\n",
        "\n",
        "        for block in self.blocks:\n",
        "            x = block(x)\n",
        "\n",
        "        x = self.unembed(x)\n",
        "        return x"
      ],
      "metadata": {
        "id": "d02BTcJt2T7H"
      },
      "execution_count": null,
      "outputs": []
    },
    {
      "cell_type": "code",
      "source": [
        "MODULUS = 59\n",
        "DIMENSION = 128\n",
        "\n",
        "@dataclass\n",
        "class TransformerConfig:\n",
        "    num_layers: int = 1\n",
        "    d_vocab: int = MODULUS + 1\n",
        "    d_model: int = DIMENSION\n",
        "    d_mlp: int = 4 * DIMENSION\n",
        "    d_head: int = DIMENSION // 4\n",
        "    num_heads: int = 4\n",
        "    num_ctx: int = 3\n",
        "    act_fn: Callable = F.relu\n",
        "    attn_rate: int = 0\n",
        "\n",
        "    def factory(self):\n",
        "\n",
        "        return Transformer(\n",
        "            num_layers=self.num_layers,\n",
        "            d_vocab=self.d_vocab,\n",
        "            d_model=self.d_model,\n",
        "            d_mlp=self.d_mlp,\n",
        "            d_head=self.d_head,\n",
        "            num_heads=self.num_heads,\n",
        "            num_ctx=self.num_ctx,\n",
        "            act_fn=self.act_fn,\n",
        "            attn_rate=self.attn_rate\n",
        "        )"
      ],
      "metadata": {
        "id": "hB5t1bcJ2SXv"
      },
      "execution_count": null,
      "outputs": []
    },
    {
      "cell_type": "markdown",
      "source": [
        "2 models for each attention rate. Attention rate = 0 doesn't seem to reach 100% train accuracy or validation accuracy."
      ],
      "metadata": {
        "id": "1vEkqPHeEml0"
      }
    },
    {
      "cell_type": "markdown",
      "source": [
        "By varying attention rates, we may be able to control for (or get some preliminary results on the learning coefficients for) the pizza and clock algorithms."
      ],
      "metadata": {
        "id": "zYu3ZObc_KHl"
      }
    },
    {
      "cell_type": "code",
      "source": [
        "ATTN_RATES = [0.1,0.2,0.3,0.4,0.5,0.6,0.7,0.8,0.9,1]"
      ],
      "metadata": {
        "id": "aPHT1SMw9Nyl"
      },
      "execution_count": null,
      "outputs": []
    },
    {
      "cell_type": "markdown",
      "source": [
        "### Evals"
      ],
      "metadata": {
        "id": "MBgAyz37rd02"
      }
    },
    {
      "cell_type": "code",
      "source": [
        "def cross_entropy_last_token(outputs, targets, reduction=\"sum\"):\n",
        "    \"\"\"\n",
        "    Wrapper around cross entropy loss because we only care about the last number predicted.\n",
        "    \"\"\"\n",
        "    # Only look at predictions of last numbers\n",
        "    outputs = outputs[:, -1]\n",
        "\n",
        "    # Compute individual and summed losses for final number\n",
        "    logprobs = F.log_softmax(outputs.to(torch.float32), dim=-1)\n",
        "    prediction_logprobs = torch.gather(logprobs, index=targets.unsqueeze(1), dim=-1)\n",
        "\n",
        "    if reduction == \"mean\":\n",
        "        loss = -torch.mean(prediction_logprobs)\n",
        "    elif reduction == \"sum\":\n",
        "        loss = -torch.sum(prediction_logprobs)\n",
        "    else:\n",
        "        raise ValueError(\"Invalid reduction argument.\")\n",
        "\n",
        "    return loss\n",
        "\n",
        "\n",
        "def make_evals(trainset: ModularArithmetic, testset: ModularArithmetic, device: str):\n",
        "    trainloader = torch.utils.data.DataLoader(trainset, batch_size=1024, shuffle=True)\n",
        "    testloader = torch.utils.data.DataLoader(testset, batch_size=1024, shuffle=False)\n",
        "\n",
        "    def eval_loss_and_acc(model: nn.Module) -> Dict[str, float]:\n",
        "        model.eval()\n",
        "\n",
        "        results = {}\n",
        "\n",
        "        for name, loader in zip([\"train\", \"test\"], [trainloader, testloader]):\n",
        "            total = 0\n",
        "            correct = 0\n",
        "\n",
        "            for x, y in loader:\n",
        "                x = x.to(device)\n",
        "                y = y.to(device)\n",
        "\n",
        "                with torch.no_grad():\n",
        "                    y_hat = model(x)\n",
        "\n",
        "                total += cross_entropy_last_token(y_hat, y, reduction=\"sum\").item()\n",
        "                correct += (\n",
        "                    (y_hat[:, -1, :].max(dim=1).indices == y).sum().item()\n",
        "                )  # argmax doesn't work for device=mps\n",
        "\n",
        "            results[f\"{name}/loss\"] = total / len(loader.dataset)\n",
        "            results[f\"{name}/accuracy\"] = correct / len(loader.dataset)\n",
        "\n",
        "        return results\n",
        "\n",
        "    return eval_loss_and_acc"
      ],
      "metadata": {
        "id": "oeiiyqiprfd2"
      },
      "execution_count": null,
      "outputs": []
    },
    {
      "cell_type": "markdown",
      "source": [
        "### Learner Class"
      ],
      "metadata": {
        "id": "GnthyvCxjINT"
      }
    },
    {
      "cell_type": "code",
      "execution_count": null,
      "metadata": {
        "id": "77sRPjUWFLlU"
      },
      "outputs": [],
      "source": [
        "@dataclass\n",
        "class Learner:\n",
        "    config: \"GrokkingConfig\"\n",
        "    model: nn.Module\n",
        "    dataset: torch.utils.data.Dataset\n",
        "    loader: torch.utils.data.DataLoader\n",
        "    optimizer: torch.optim.Optimizer\n",
        "    evals: Callable[[nn.Module], Dict[str, float]]\n",
        "\n",
        "class GrokkingConfig(BaseModel):\n",
        "    data: ModularArithmeticConfig\n",
        "    model: TransformerConfig\n",
        "    noise_level: float = 1.0\n",
        "    batch_size: int = 256\n",
        "    num_steps: int = 20_000\n",
        "    device: str = \"cuda\"\n",
        "    lr: float = 1e-3\n",
        "    betas: Tuple[float, float] = (0.9, 0.98)\n",
        "    weight_decay: float = 0.2\n",
        "\n",
        "    class Config:\n",
        "        arbitrary_types_allowed = True\n",
        "\n",
        "    @property\n",
        "    def num_training_examples(self):\n",
        "        return int((self.data.modulus**2) * self.data.split)\n",
        "\n",
        "    def create_model(self):\n",
        "        return self.model.factory()\n",
        "\n",
        "    def create_data(self):\n",
        "        return self.data.factory_split()\n",
        "\n",
        "    def create_learner(self):\n",
        "        model = self.create_model()\n",
        "        trainset, testset = self.create_data()\n",
        "        trainloader = torch.utils.data.DataLoader(\n",
        "            trainset, batch_size=self.batch_size, shuffle=True\n",
        "        )\n",
        "        evals = make_evals(trainset, testset, self.device)\n",
        "        optimizer = optim.AdamW(\n",
        "            model.parameters(),\n",
        "            lr=self.lr,\n",
        "            betas=self.betas,\n",
        "            weight_decay=self.weight_decay,\n",
        "        )\n",
        "\n",
        "        learner = Learner(self, model, trainset, trainloader, optimizer, evals)\n",
        "        return learner"
      ]
    },
    {
      "cell_type": "code",
      "source": [
        "mod_data = ModularArithmeticConfig(operator=\"+\", modulus=MODULUS, seed=0, split=0.8)"
      ],
      "metadata": {
        "id": "-TNoIFhJ_tG6"
      },
      "execution_count": null,
      "outputs": []
    },
    {
      "cell_type": "code",
      "source": [],
      "metadata": {
        "id": "dlu_5iUtY9oc"
      },
      "execution_count": null,
      "outputs": []
    },
    {
      "cell_type": "code",
      "source": [
        "learners = {}\n",
        "for a in ATTN_RATES:\n",
        "  torch.manual_seed(a*10)\n",
        "  learner0 = GrokkingConfig(\n",
        "      data = mod_data,\n",
        "      model = TransformerConfig(attn_rate = a),\n",
        "      device = str(DEVICE),\n",
        "  ).create_learner()\n",
        "\n",
        "  torch.manual_seed(10+10*a)\n",
        "  learner1 = GrokkingConfig(\n",
        "      data = mod_data,\n",
        "      model = TransformerConfig(attn_rate = a),\n",
        "      device = str(DEVICE),\n",
        "  ).create_learner()\n",
        "\n",
        "  learners[a] = [learner0, learner1]"
      ],
      "metadata": {
        "id": "gPSBlKT6ATqe"
      },
      "execution_count": null,
      "outputs": []
    },
    {
      "cell_type": "code",
      "source": [
        "learners[0.2][1].model.embed.W_E"
      ],
      "metadata": {
        "colab": {
          "base_uri": "https://localhost:8080/"
        },
        "id": "qANZEbkdaPhO",
        "outputId": "d7e402a7-ea10-478c-f0f3-481d6af7d799"
      },
      "execution_count": null,
      "outputs": [
        {
          "output_type": "execute_result",
          "data": {
            "text/plain": [
              "Parameter containing:\n",
              "tensor([[-0.0117, -0.0111,  0.0304,  ..., -0.0797, -0.1688, -0.0883],\n",
              "        [-0.0907,  0.0861, -0.1630,  ..., -0.0156,  0.0758,  0.0829],\n",
              "        [-0.0083,  0.0553, -0.2066,  ...,  0.0808, -0.1134,  0.0938],\n",
              "        ...,\n",
              "        [ 0.0105, -0.0420,  0.0321,  ..., -0.1251,  0.0680, -0.0224],\n",
              "        [ 0.0124,  0.0079,  0.0187,  ..., -0.0155, -0.0239,  0.0389],\n",
              "        [ 0.0938,  0.0271, -0.0302,  ...,  0.1732,  0.1087,  0.0195]],\n",
              "       requires_grad=True)"
            ]
          },
          "metadata": {},
          "execution_count": 120
        }
      ]
    },
    {
      "cell_type": "code",
      "source": [
        "learners[0.2][0].model.embed.W_E"
      ],
      "metadata": {
        "colab": {
          "base_uri": "https://localhost:8080/"
        },
        "id": "gHYEEvR8aJ92",
        "outputId": "aa23e790-9b29-452f-d5e9-c8790b8f59e2"
      },
      "execution_count": null,
      "outputs": [
        {
          "output_type": "execute_result",
          "data": {
            "text/plain": [
              "Parameter containing:\n",
              "tensor([[-0.0920,  0.0810, -0.1153,  ..., -0.1063, -0.0516, -0.0390],\n",
              "        [-0.1749,  0.0688, -0.0685,  ...,  0.1343, -0.0433,  0.0816],\n",
              "        [-0.0531, -0.0987,  0.0228,  ...,  0.0280, -0.0793, -0.0565],\n",
              "        ...,\n",
              "        [-0.0227,  0.1120,  0.0775,  ..., -0.1761, -0.0297,  0.1243],\n",
              "        [ 0.0498,  0.1614, -0.0619,  ..., -0.1843,  0.0591,  0.0499],\n",
              "        [-0.0152,  0.0961, -0.0042,  ..., -0.0007, -0.0334,  0.0526]],\n",
              "       requires_grad=True)"
            ]
          },
          "metadata": {},
          "execution_count": 121
        }
      ]
    },
    {
      "cell_type": "markdown",
      "source": [
        "### Training"
      ],
      "metadata": {
        "id": "kwxvBCt-rhpX"
      }
    },
    {
      "cell_type": "markdown",
      "source": [
        "Removed all mentions of WandB"
      ],
      "metadata": {
        "id": "08YmMWZ3r1d2"
      }
    },
    {
      "cell_type": "code",
      "source": [
        "def train(learner, CHECKPOINTS_PATH, num_log_ivl_steps=100, num_lin_ivl_steps=100):\n",
        "    learner.model.to(learner.config.device)\n",
        "    learner.model.train()\n",
        "\n",
        "    evals = []\n",
        "\n",
        "    num_steps = learner.config.num_steps\n",
        "    logging_steps = set(np.linspace(0, num_steps, num_lin_ivl_steps).astype(int)) | set(\n",
        "        np.logspace(0, num_steps, num_log_ivl_steps).astype(int)\n",
        "    )\n",
        "\n",
        "    def log(step):\n",
        "        learner.model.eval()\n",
        "        evals.append({\"step\": step, **learner.evals(learner.model)})\n",
        "\n",
        "        learner.model.train()\n",
        "\n",
        "\n",
        "    def save_checkpoint(step):\n",
        "        torch.save(learner.model.state_dict(), f\"{CHECKPOINTS_PATH}_{step}.pt\")\n",
        "\n",
        "    step = -1\n",
        "    epoch = -1\n",
        "\n",
        "    pbar = tqdm(\n",
        "        total=learner.config.num_steps,\n",
        "        desc=f\"Training...\",\n",
        "    )\n",
        "\n",
        "    while step < learner.config.num_steps:\n",
        "        torch.manual_seed(step)\n",
        "        epoch += 1\n",
        "\n",
        "        for x, y in learner.loader:\n",
        "            step += 1\n",
        "            x, y = x.to(learner.config.device), y.to(learner.config.device)\n",
        "            learner.optimizer.zero_grad()\n",
        "            y_hat = learner.model(x)\n",
        "            loss = cross_entropy_last_token(y_hat, y)\n",
        "            loss.backward()\n",
        "            learner.optimizer.step()\n",
        "\n",
        "            if step in logging_steps:\n",
        "                log(step=step)\n",
        "                save_checkpoint(step=step)\n",
        "\n",
        "            pbar.update(1)\n",
        "\n",
        "    if pbar:\n",
        "        pbar.close()\n",
        "\n",
        "    log(step=step)\n",
        "    save_checkpoint(step=step) # save final model\n",
        "\n",
        "    evals_df = pd.DataFrame(evals)\n",
        "    evals_df.sort_values(\"step\", inplace=True)\n",
        "\n",
        "    return evals_df"
      ],
      "metadata": {
        "id": "K0S1zGJArtyf"
      },
      "execution_count": null,
      "outputs": []
    },
    {
      "cell_type": "code",
      "source": [
        "for attn_rate, learner_arr in learners.items():\n",
        "  print(f\"ATTENTION RATE : {attn_rate}, MODEL 0\")\n",
        "  path = MODELS_PATH / f\"attn_rate{attn_rate}_0\"\n",
        "  os.makedirs(path)\n",
        "  print(train(learner_arr[0], path, num_log_ivl_steps=0, num_lin_ivl_steps=4))\n",
        "\n",
        "  print(f\"ATTENTION RATE : {attn_rate}, MODEL 1\")\n",
        "  path = MODELS_PATH / f\"attn_rate{attn_rate}_1\"\n",
        "  os.makedirs(path)\n",
        "  print(train(learner_arr[1], path, num_log_ivl_steps=0, num_lin_ivl_steps=4))"
      ],
      "metadata": {
        "colab": {
          "base_uri": "https://localhost:8080/"
        },
        "id": "LRd59b_0CoiO",
        "outputId": "2b8c780d-1fc1-4f4f-a3af-5d94f35771a2"
      },
      "execution_count": null,
      "outputs": [
        {
          "output_type": "stream",
          "name": "stdout",
          "text": [
            "ATTENTION RATE : 0.1, MODEL 0\n"
          ]
        },
        {
          "output_type": "stream",
          "name": "stderr",
          "text": [
            "Training...: 20009it [02:53, 115.05it/s]                           \n"
          ]
        },
        {
          "output_type": "stream",
          "name": "stdout",
          "text": [
            "    step    train/loss  train/accuracy     test/loss  test/accuracy\n",
            "0      0  4.137346e+00        0.015086  4.118322e+00       0.020086\n",
            "1   6666  1.352749e-05        1.000000  2.173772e-05       1.000000\n",
            "2  13333  1.067444e-06        1.000000  1.944281e-06       1.000000\n",
            "3  20000  2.268144e-07        1.000000  4.118445e-07       1.000000\n",
            "4  20008  3.239287e-07        1.000000  6.350380e-07       1.000000\n",
            "ATTENTION RATE : 0.1, MODEL 1\n"
          ]
        },
        {
          "output_type": "stream",
          "name": "stderr",
          "text": [
            "Training...: 20009it [02:49, 117.76it/s]                           \n"
          ]
        },
        {
          "output_type": "stream",
          "name": "stdout",
          "text": [
            "    step  train/loss  train/accuracy  test/loss  test/accuracy\n",
            "0      0    4.117422        0.016523   4.126999       0.018651\n",
            "1   6666    0.000040        1.000000   0.000054       1.000000\n",
            "2  13333    0.000129        1.000000   0.000154       1.000000\n",
            "3  20000    0.000156        1.000000   0.000187       1.000000\n",
            "4  20008    0.000150        1.000000   0.000179       1.000000\n",
            "ATTENTION RATE : 0.2, MODEL 0\n"
          ]
        },
        {
          "output_type": "stream",
          "name": "stderr",
          "text": [
            "Training...: 20009it [02:51, 116.81it/s]                           \n"
          ]
        },
        {
          "output_type": "stream",
          "name": "stdout",
          "text": [
            "    step  train/loss  train/accuracy  test/loss  test/accuracy\n",
            "0      0    4.108068        0.014368   4.099782       0.027260\n",
            "1   6666    0.012824        0.998922   0.303571       0.977044\n",
            "2  13333    0.000954        1.000000   0.200326       0.992826\n",
            "3  20000    0.000129        1.000000   0.215577       0.989957\n",
            "4  20008    0.000134        1.000000   0.214214       0.989957\n",
            "ATTENTION RATE : 0.2, MODEL 1\n"
          ]
        },
        {
          "output_type": "stream",
          "name": "stderr",
          "text": [
            "Training...: 20009it [02:51, 116.82it/s]\n"
          ]
        },
        {
          "output_type": "stream",
          "name": "stdout",
          "text": [
            "    step    train/loss  train/accuracy     test/loss  test/accuracy\n",
            "0      0  4.110819e+00        0.017960  4.132641e+00       0.015782\n",
            "1   6666  1.613008e-07        1.000000  2.946878e-07       1.000000\n",
            "2  13333  4.041647e-05        1.000000  4.964385e-05       1.000000\n",
            "3  20000  3.175401e-03        0.998563  1.804058e-03       1.000000\n",
            "4  20008  1.568427e-01        0.946121  1.676130e-01       0.939742\n",
            "ATTENTION RATE : 0.3, MODEL 0\n"
          ]
        },
        {
          "output_type": "stream",
          "name": "stderr",
          "text": [
            "Training...: 20009it [02:51, 116.95it/s]                           \n"
          ]
        },
        {
          "output_type": "stream",
          "name": "stdout",
          "text": [
            "    step    train/loss  train/accuracy     test/loss  test/accuracy\n",
            "0      0  4.126754e+00        0.019397  4.129379e+00       0.007174\n",
            "1   6666  2.039489e-07        1.000000  3.906367e-07       1.000000\n",
            "2  13333  5.102182e-05        1.000000  8.789340e-05       1.000000\n",
            "3  20000  5.768193e-05        1.000000  6.942991e-05       1.000000\n",
            "4  20008  5.652259e-05        1.000000  6.794523e-05       1.000000\n",
            "ATTENTION RATE : 0.3, MODEL 1\n"
          ]
        },
        {
          "output_type": "stream",
          "name": "stderr",
          "text": [
            "Training...: 20009it [02:47, 119.52it/s]                           \n"
          ]
        },
        {
          "output_type": "stream",
          "name": "stdout",
          "text": [
            "    step  train/loss  train/accuracy  test/loss  test/accuracy\n",
            "0      0    4.124863        0.016882   4.131470       0.017217\n",
            "1   6666    0.000117        1.000000   0.000221       1.000000\n",
            "2  13333    0.000046        1.000000   0.000056       1.000000\n",
            "3  20000    0.000002        1.000000   0.000003       1.000000\n",
            "4  20008    0.000002        1.000000   0.000003       1.000000\n",
            "ATTENTION RATE : 0.4, MODEL 0\n"
          ]
        },
        {
          "output_type": "stream",
          "name": "stderr",
          "text": [
            "Training...: 20009it [02:48, 119.04it/s]                           \n"
          ]
        },
        {
          "output_type": "stream",
          "name": "stdout",
          "text": [
            "    step    train/loss  train/accuracy     test/loss  test/accuracy\n",
            "0      0  4.115154e+00        0.015445  4.118983e+00       0.020086\n",
            "1   6666  1.796229e-06        1.000000  4.380033e-06       1.000000\n",
            "2  13333  1.760956e-05        1.000000  2.454084e-05       1.000000\n",
            "3  20000  3.083854e-07        1.000000  5.722715e-07       1.000000\n",
            "4  20008  2.825653e-07        1.000000  5.346446e-07       1.000000\n",
            "ATTENTION RATE : 0.4, MODEL 1\n"
          ]
        },
        {
          "output_type": "stream",
          "name": "stderr",
          "text": [
            "Training...: 20009it [02:46, 120.18it/s]\n"
          ]
        },
        {
          "output_type": "stream",
          "name": "stdout",
          "text": [
            "    step    train/loss  train/accuracy     test/loss  test/accuracy\n",
            "0      0  4.122675e+00         0.01796  4.136428e+00       0.014347\n",
            "1   6666  2.959974e-05         1.00000  8.365802e-04       1.000000\n",
            "2  13333  7.234773e-04         1.00000  3.677467e-03       0.998565\n",
            "3  20000  2.127269e-07         1.00000  3.466816e-07       1.000000\n",
            "4  20008  1.935438e-07         1.00000  3.121332e-07       1.000000\n",
            "ATTENTION RATE : 0.5, MODEL 0\n"
          ]
        },
        {
          "output_type": "stream",
          "name": "stderr",
          "text": [
            "Training...: 20009it [02:48, 118.83it/s]\n"
          ]
        },
        {
          "output_type": "stream",
          "name": "stdout",
          "text": [
            "    step    train/loss  train/accuracy  test/loss  test/accuracy\n",
            "0      0  4.119503e+00        0.015805   4.122170       0.022956\n",
            "1   6666  4.106382e-08        1.000000   0.000028       1.000000\n",
            "2  13333  6.595198e-06        1.000000   0.000078       1.000000\n",
            "3  20000  1.074947e-05        1.000000   0.000260       1.000000\n",
            "4  20008  1.089294e-05        1.000000   0.000253       1.000000\n",
            "ATTENTION RATE : 0.5, MODEL 1\n"
          ]
        },
        {
          "output_type": "stream",
          "name": "stderr",
          "text": [
            "Training...: 20009it [02:42, 122.89it/s]                           \n"
          ]
        },
        {
          "output_type": "stream",
          "name": "stdout",
          "text": [
            "    step    train/loss  train/accuracy     test/loss  test/accuracy\n",
            "0      0  4.113034e+00        0.014009  4.117233e+00       0.018651\n",
            "1   6666  2.263077e-02        0.993175  4.871823e-02       0.982783\n",
            "2  13333  2.057951e-05        1.000000  2.403752e-05       1.000000\n",
            "3  20000  5.857697e-08        1.000000  8.825248e-08       1.000000\n",
            "4  20008  5.746366e-08        1.000000  8.158223e-08       1.000000\n",
            "ATTENTION RATE : 0.6, MODEL 0\n"
          ]
        },
        {
          "output_type": "stream",
          "name": "stderr",
          "text": [
            "Training...: 20009it [02:49, 117.97it/s]\n"
          ]
        },
        {
          "output_type": "stream",
          "name": "stdout",
          "text": [
            "    step    train/loss  train/accuracy  test/loss  test/accuracy\n",
            "0      0  4.115988e+00        0.017241   4.111241       0.020086\n",
            "1   6666  9.630088e-08        1.000000   0.000027       1.000000\n",
            "2  13333  2.991825e-06        1.000000   0.000005       1.000000\n",
            "3  20000  1.392885e-05        1.000000   0.000022       1.000000\n",
            "4  20008  1.391992e-05        1.000000   0.000021       1.000000\n",
            "ATTENTION RATE : 0.6, MODEL 1\n"
          ]
        },
        {
          "output_type": "stream",
          "name": "stderr",
          "text": [
            "Training...: 20009it [02:52, 116.11it/s]\n"
          ]
        },
        {
          "output_type": "stream",
          "name": "stdout",
          "text": [
            "    step    train/loss  train/accuracy     test/loss  test/accuracy\n",
            "0      0  4.116773e+00        0.015805  4.131273e+00       0.017217\n",
            "1   6666  1.313895e-05        1.000000  4.370150e-05       1.000000\n",
            "2  13333  9.398863e-08        1.000000  6.476916e-07       1.000000\n",
            "3  20000  6.607888e-07        1.000000  2.098681e-06       1.000000\n",
            "4  20008  6.068792e-07        1.000000  1.949548e-06       1.000000\n",
            "ATTENTION RATE : 0.7, MODEL 0\n"
          ]
        },
        {
          "output_type": "stream",
          "name": "stderr",
          "text": [
            "Training...: 20009it [02:46, 120.43it/s]\n"
          ]
        },
        {
          "output_type": "stream",
          "name": "stdout",
          "text": [
            "    step  train/loss  train/accuracy  test/loss  test/accuracy\n",
            "0      0    4.119123        0.018678   4.125973       0.007174\n",
            "1   6666    0.000015        1.000000   0.000229       1.000000\n",
            "2  13333    0.000002        1.000000   0.000006       1.000000\n",
            "3  20000    0.000015        1.000000   0.000021       1.000000\n",
            "4  20008    0.000015        1.000000   0.000021       1.000000\n",
            "ATTENTION RATE : 0.7, MODEL 1\n"
          ]
        },
        {
          "output_type": "stream",
          "name": "stderr",
          "text": [
            "Training...: 20009it [02:53, 115.03it/s]\n"
          ]
        },
        {
          "output_type": "stream",
          "name": "stdout",
          "text": [
            "    step    train/loss  train/accuracy  test/loss  test/accuracy\n",
            "0      0  4.121050e+00        0.016164   4.125096       0.012912\n",
            "1   6666  3.056450e-07        1.000000   0.000002       1.000000\n",
            "2  13333  1.362590e-05        1.000000   0.000020       1.000000\n",
            "3  20000  1.996318e-03        0.999641   0.003921       0.998565\n",
            "4  20008  2.875202e-03        0.998922   0.006507       0.995696\n",
            "ATTENTION RATE : 0.8, MODEL 0\n"
          ]
        },
        {
          "output_type": "stream",
          "name": "stderr",
          "text": [
            "Training...: 20009it [02:53, 115.31it/s]                           \n"
          ]
        },
        {
          "output_type": "stream",
          "name": "stdout",
          "text": [
            "    step    train/loss  train/accuracy  test/loss  test/accuracy\n",
            "0      0  4.123406e+00        0.015445   4.131964       0.011478\n",
            "1   6666  2.980232e-08        1.000000   0.000001       1.000000\n",
            "2  13333  6.262599e-06        1.000000   0.000015       1.000000\n",
            "3  20000  8.580751e-06        1.000000   0.000013       1.000000\n",
            "4  20008  8.684124e-06        1.000000   0.000013       1.000000\n",
            "ATTENTION RATE : 0.8, MODEL 1\n"
          ]
        },
        {
          "output_type": "stream",
          "name": "stderr",
          "text": [
            "Training...: 20009it [02:46, 120.17it/s]                           \n"
          ]
        },
        {
          "output_type": "stream",
          "name": "stdout",
          "text": [
            "    step    train/loss  train/accuracy     test/loss  test/accuracy\n",
            "0      0  4.116007e+00        0.018319  4.127214e+00       0.014347\n",
            "1   6666  4.157766e-08        1.000000  1.653878e-07       1.000000\n",
            "2  13333  1.964246e-05        1.000000  2.614429e-05       1.000000\n",
            "3  20000  1.309845e-06        1.000000  2.006199e-06       1.000000\n",
            "4  20008  1.205665e-06        1.000000  1.826274e-06       1.000000\n",
            "ATTENTION RATE : 0.9, MODEL 0\n"
          ]
        },
        {
          "output_type": "stream",
          "name": "stderr",
          "text": [
            "Training...: 20009it [02:43, 122.20it/s]                           \n"
          ]
        },
        {
          "output_type": "stream",
          "name": "stdout",
          "text": [
            "    step    train/loss  train/accuracy  test/loss  test/accuracy\n",
            "0      0  4.139097e+00        0.011494   4.130116       0.017217\n",
            "1   6666  1.076973e-01        0.968032   0.207353       0.956958\n",
            "2  13333  2.251365e-05        1.000000   0.000033       1.000000\n",
            "3  20000  8.524057e-07        1.000000   0.000001       1.000000\n",
            "4  20008  7.796556e-07        1.000000   0.000001       1.000000\n",
            "ATTENTION RATE : 0.9, MODEL 1\n"
          ]
        },
        {
          "output_type": "stream",
          "name": "stderr",
          "text": [
            "Training...: 20009it [02:47, 119.30it/s]\n"
          ]
        },
        {
          "output_type": "stream",
          "name": "stdout",
          "text": [
            "    step    train/loss  train/accuracy  test/loss  test/accuracy\n",
            "0      0  4.113367e+00        0.017601   4.118465       0.012912\n",
            "1   6666  6.222087e-07        1.000000   0.000012       1.000000\n",
            "2  13333  1.741677e-05        1.000000   0.000067       1.000000\n",
            "3  20000  2.070914e-06        1.000000   0.000005       1.000000\n",
            "4  20008  1.908844e-06        1.000000   0.000004       1.000000\n",
            "ATTENTION RATE : 1, MODEL 0\n"
          ]
        },
        {
          "output_type": "stream",
          "name": "stderr",
          "text": [
            "Training...: 20009it [02:47, 119.16it/s]                           \n"
          ]
        },
        {
          "output_type": "stream",
          "name": "stdout",
          "text": [
            "    step    train/loss  train/accuracy     test/loss  test/accuracy\n",
            "0      0  4.110788e+00        0.014727  4.108783e+00       0.022956\n",
            "1   6666  9.925542e-08        1.000000  3.372742e-07       1.000000\n",
            "2  13333  2.252854e-06        1.000000  3.180666e-06       1.000000\n",
            "3  20000  2.764342e-05        1.000000  3.516510e-05       1.000000\n",
            "4  20008  2.713555e-05        1.000000  3.477466e-05       1.000000\n",
            "ATTENTION RATE : 1, MODEL 1\n"
          ]
        },
        {
          "output_type": "stream",
          "name": "stderr",
          "text": [
            "Training...: 20009it [02:45, 120.69it/s]"
          ]
        },
        {
          "output_type": "stream",
          "name": "stdout",
          "text": [
            "    step    train/loss  train/accuracy  test/loss  test/accuracy\n",
            "0      0  4.141943e+00        0.019397   4.140134       0.017217\n",
            "1   6666  2.256584e-08        1.000000   0.000001       1.000000\n",
            "2  13333  5.535966e-06        1.000000   0.000010       1.000000\n",
            "3  20000  1.255577e-05        1.000000   0.000027       1.000000\n",
            "4  20008  1.239669e-05        1.000000   0.000027       1.000000\n"
          ]
        },
        {
          "output_type": "stream",
          "name": "stderr",
          "text": [
            "\n"
          ]
        }
      ]
    },
    {
      "cell_type": "code",
      "source": [
        "learners[0.2][0].model([[37,53,59]])[0,-1].argmax()"
      ],
      "metadata": {
        "colab": {
          "base_uri": "https://localhost:8080/"
        },
        "id": "rH8l0HQbNZBD",
        "outputId": "42fcf29c-9e4d-43da-90a6-e98f82808a38"
      },
      "execution_count": null,
      "outputs": [
        {
          "output_type": "execute_result",
          "data": {
            "text/plain": [
              "tensor(31, device='cuda:0')"
            ]
          },
          "metadata": {},
          "execution_count": 33
        }
      ]
    },
    {
      "cell_type": "code",
      "source": [
        "for name, param in learners[0.2][0].model.named_parameters():\n",
        "  print(name, param.data)"
      ],
      "metadata": {
        "colab": {
          "base_uri": "https://localhost:8080/"
        },
        "id": "LMJD_auN8JgW",
        "outputId": "a83d96b3-a076-4757-a355-f0f699cbdb56"
      },
      "execution_count": null,
      "outputs": [
        {
          "output_type": "stream",
          "name": "stdout",
          "text": [
            "embed.W_E tensor([[ 5.6105e-02,  9.9426e-03, -9.3394e-02,  ...,  1.7277e-02,\n",
            "          4.3362e-02,  2.5916e-02],\n",
            "        [-1.3514e-02, -1.6675e-02, -5.7600e-02,  ...,  1.1436e-02,\n",
            "          2.9251e-01,  2.3988e-03],\n",
            "        [ 1.3698e-01, -1.4830e-03, -4.3085e-02,  ..., -5.2998e-02,\n",
            "          3.0785e-03,  4.9781e-03],\n",
            "        ...,\n",
            "        [-1.2376e-01, -1.0134e-02,  2.8487e-02,  ...,  1.1700e-02,\n",
            "         -1.4693e-02,  8.0188e-02],\n",
            "        [-6.5846e-02, -1.1284e-01,  2.3809e-03,  ...,  3.7248e-02,\n",
            "          4.0948e-02, -2.1076e-04],\n",
            "        [ 7.1310e-02,  2.0719e-02, -6.2224e-02,  ..., -4.4086e-02,\n",
            "          6.6337e-03,  3.7492e-02]], device='cuda:0')\n",
            "pos_embed.W_pos tensor([[-2.1243e-02, -6.1184e-03, -5.5051e-03, -1.2674e-02,  3.0466e-02,\n",
            "          1.4666e-02, -1.0247e-02,  5.7747e-03, -2.8433e-02, -3.5039e-02,\n",
            "          2.1498e-02, -2.0979e-02, -1.5336e-02,  3.1583e-03,  5.6914e-03,\n",
            "          1.5577e-03,  6.1629e-04,  1.6493e-02,  6.0664e-03,  3.2711e-02,\n",
            "         -2.0336e-03,  1.5548e-02, -1.0912e-02, -4.6518e-03, -3.6276e-03,\n",
            "         -1.7889e-02,  3.5111e-02, -1.2599e-02, -2.3963e-02,  7.9217e-03,\n",
            "         -9.1587e-04,  1.8754e-02, -1.6423e-02,  1.5323e-03, -2.7698e-02,\n",
            "         -4.3204e-03,  7.4445e-03,  5.2583e-03,  2.4301e-02, -1.1466e-02,\n",
            "         -1.8550e-02, -3.4495e-03,  5.0608e-03, -3.5690e-02, -1.9026e-02,\n",
            "         -3.0081e-03,  8.4483e-03,  7.7610e-03,  1.2592e-03,  1.3174e-02,\n",
            "         -8.8758e-03, -1.9472e-02,  2.4535e-03, -4.8817e-03,  5.8030e-03,\n",
            "         -4.4847e-03,  1.6782e-02,  3.4824e-03, -5.3795e-03,  1.1989e-02,\n",
            "         -1.0800e-03,  2.8247e-02,  2.5057e-03,  2.0888e-02, -3.5152e-02,\n",
            "          2.7955e-03, -1.8845e-02,  3.0470e-02, -1.5651e-02,  2.0165e-02,\n",
            "         -2.8183e-03,  3.8987e-03,  8.9637e-03, -1.5792e-02, -3.1787e-02,\n",
            "          1.2530e-03, -5.1140e-03, -1.5623e-02, -4.0391e-03, -2.0622e-03,\n",
            "          1.0686e-02,  1.3258e-02, -2.1479e-02, -2.9311e-02, -1.4196e-02,\n",
            "         -2.7782e-02,  9.5349e-03, -3.5475e-03,  2.9536e-02, -4.5721e-02,\n",
            "          4.0822e-03,  3.7738e-03, -1.2380e-02,  7.4964e-04,  6.6892e-03,\n",
            "         -1.3107e-02,  5.2896e-03, -1.6935e-03,  2.0892e-02,  8.1537e-03,\n",
            "          5.7713e-03,  7.6811e-04,  2.2939e-04, -2.6026e-02, -5.0160e-03,\n",
            "          3.8625e-02, -5.5346e-04, -1.3466e-03, -2.8702e-02,  1.1522e-02,\n",
            "         -2.8022e-02, -2.5851e-03,  1.2198e-02,  1.4390e-03, -2.9618e-02,\n",
            "         -7.9547e-04, -5.4248e-03,  1.6700e-03,  5.3201e-03, -3.1841e-02,\n",
            "         -4.3223e-02,  3.1039e-03, -9.0344e-03,  2.0405e-02, -3.2487e-03,\n",
            "         -2.4487e-02,  7.2522e-04, -1.2416e-02],\n",
            "        [-2.1101e-02, -5.2131e-03, -3.9554e-03, -1.3232e-02,  2.8219e-02,\n",
            "          1.5177e-02, -1.0738e-02,  5.2203e-03, -2.9138e-02, -3.4388e-02,\n",
            "          2.2854e-02, -2.1296e-02, -1.6081e-02,  1.8601e-03,  4.5662e-03,\n",
            "          2.3303e-03, -9.3420e-05,  1.2834e-02,  5.7406e-03,  3.2099e-02,\n",
            "          2.2183e-03,  1.6261e-02, -1.0637e-02, -7.8704e-03, -3.9352e-03,\n",
            "         -1.9798e-02,  3.3318e-02, -1.1274e-02, -2.3575e-02,  3.9210e-03,\n",
            "          7.7320e-04,  1.8799e-02, -1.3967e-02,  1.7451e-03, -2.7737e-02,\n",
            "         -3.3813e-03,  6.0185e-03,  6.0013e-03,  2.3150e-02, -6.8116e-03,\n",
            "         -1.7199e-02, -3.3875e-03,  6.7300e-03, -3.5585e-02, -1.4930e-02,\n",
            "         -2.0555e-03,  1.1259e-02,  3.6864e-03,  2.5315e-04,  1.5487e-02,\n",
            "         -3.9145e-03, -2.0864e-02,  2.4610e-03, -6.2067e-03,  4.9150e-03,\n",
            "         -4.7912e-03,  1.7349e-02,  3.5570e-03, -4.0570e-04,  1.1530e-02,\n",
            "         -1.8365e-03,  2.7690e-02,  6.0825e-05,  2.3256e-02, -3.1882e-02,\n",
            "          1.7835e-03, -1.9014e-02,  2.9092e-02, -1.3566e-02,  2.2381e-02,\n",
            "          3.1685e-03,  2.7823e-03,  1.2804e-02, -1.6087e-02, -3.2631e-02,\n",
            "          5.0111e-05, -6.6190e-03, -1.7829e-02, -2.1726e-03, -1.2268e-03,\n",
            "          1.4356e-02,  1.3698e-02, -2.3922e-02, -2.8552e-02, -1.4068e-02,\n",
            "         -2.3863e-02,  8.8351e-03, -2.5478e-03,  3.2273e-02, -3.9172e-02,\n",
            "          6.0692e-03,  2.9719e-03, -1.2789e-02,  9.4498e-04,  7.7034e-03,\n",
            "         -1.4365e-02, -7.4124e-06, -4.2460e-03,  2.3400e-02,  5.1973e-03,\n",
            "          6.5462e-03,  1.3037e-03,  9.3269e-04, -2.6113e-02, -3.9853e-03,\n",
            "          3.6895e-02,  1.7414e-03, -4.5894e-03, -2.7975e-02,  9.1876e-03,\n",
            "         -2.9558e-02, -1.9363e-03,  1.0059e-02, -3.1256e-04, -3.1319e-02,\n",
            "          2.6213e-03, -2.8050e-03,  3.6050e-03,  5.6671e-03, -3.0618e-02,\n",
            "         -4.4446e-02,  3.4429e-05, -1.0825e-02,  2.2312e-02, -3.8033e-03,\n",
            "         -2.4820e-02,  5.9502e-04, -1.0411e-02],\n",
            "        [ 2.8689e-02,  7.8755e-04,  7.5140e-03,  1.4411e-02, -1.5860e-01,\n",
            "         -1.8384e-02,  1.0516e-01, -7.6224e-03,  8.6591e-02,  1.6367e-01,\n",
            "         -1.1515e-01,  3.8120e-02,  6.0654e-03, -2.8023e-03, -1.6491e-02,\n",
            "         -6.6978e-03, -3.0663e-03, -2.1024e-02, -5.3928e-03, -3.4249e-02,\n",
            "         -3.4524e-03, -1.1908e-02,  7.8682e-02,  5.4155e-03,  1.5945e-03,\n",
            "          1.7146e-02, -6.9539e-02,  9.8092e-03,  5.9766e-02, -4.3112e-03,\n",
            "          9.4868e-04, -4.9743e-02,  4.7252e-02, -6.4546e-04,  1.1350e-01,\n",
            "          1.4948e-03, -3.8228e-03, -8.4109e-03, -9.6472e-02,  7.2600e-03,\n",
            "          6.4082e-02, -4.5654e-04, -5.4378e-03,  1.2791e-01,  2.3054e-02,\n",
            "          1.8211e-03, -5.3060e-03, -7.5034e-03, -4.0921e-03, -1.4165e-02,\n",
            "          4.2750e-03,  7.6279e-02,  1.7887e-04,  3.4336e-03, -5.0513e-03,\n",
            "          3.5638e-03, -5.6287e-02, -6.7065e-03,  2.7890e-03, -6.7565e-02,\n",
            "          5.8255e-03, -1.0313e-01,  2.5534e-03, -1.3604e-02,  2.2194e-01,\n",
            "         -3.4077e-03,  5.8042e-02, -1.1537e-01,  1.2083e-02, -7.9274e-02,\n",
            "         -1.2129e-03, -3.1097e-03, -2.7475e-02,  4.5828e-02,  4.6923e-02,\n",
            "         -2.2184e-03,  7.3146e-03,  2.0645e-02,  2.2311e-03,  1.0336e-03,\n",
            "         -7.1578e-02, -3.8687e-02,  5.7940e-02,  3.2407e-01,  1.9074e-02,\n",
            "          3.8200e-02, -6.7422e-03,  4.8300e-03, -2.2467e-01,  5.3480e-02,\n",
            "         -4.6184e-03, -2.7736e-03,  1.3179e-02, -2.8258e-03, -8.2784e-03,\n",
            "          4.3060e-02, -2.2367e-03,  3.7055e-03, -6.5199e-02, -3.0399e-03,\n",
            "         -5.7625e-03, -2.3330e-03, -2.6583e-03,  3.7341e-02,  7.5727e-03,\n",
            "         -3.0858e-02, -1.6267e-03,  2.1259e-03,  8.6094e-02, -3.1046e-02,\n",
            "          1.1262e-01,  4.2464e-04, -1.6739e-02, -2.6788e-03,  1.2873e-01,\n",
            "         -5.6372e-03,  7.7811e-03, -2.6641e-03, -4.0269e-03,  4.6639e-02,\n",
            "          6.0253e-02, -1.0460e-03,  7.2154e-03, -9.9461e-02,  3.0063e-03,\n",
            "          7.9507e-02, -2.2119e-03,  3.6670e-02]], device='cuda:0')\n",
            "blocks.0.attn.W_K tensor([[[-1.2532e-02,  8.3812e-03, -6.7093e-02,  ...,  1.5921e-02,\n",
            "           4.2631e-02, -7.2551e-02],\n",
            "         [-1.1342e-02,  1.1896e-02, -6.7118e-02,  ...,  1.4169e-02,\n",
            "           4.4369e-02, -7.2997e-02],\n",
            "         [ 9.7990e-03, -7.8968e-03,  6.8592e-02,  ..., -1.3587e-02,\n",
            "          -4.0540e-02,  7.0231e-02],\n",
            "         ...,\n",
            "         [ 1.3985e-02, -1.0438e-02,  6.8258e-02,  ..., -1.1289e-02,\n",
            "          -4.6208e-02,  7.0936e-02],\n",
            "         [-1.1171e-02,  1.0725e-02, -6.3209e-02,  ...,  1.3141e-02,\n",
            "           4.4412e-02, -7.1580e-02],\n",
            "         [ 1.2188e-02, -1.0941e-02,  6.7642e-02,  ..., -1.4176e-02,\n",
            "          -4.2463e-02,  7.1565e-02]],\n",
            "\n",
            "        [[-2.2426e-03,  5.1100e-03, -7.1443e-02,  ...,  7.0277e-02,\n",
            "           6.5643e-02, -4.3400e-02],\n",
            "         [-5.5972e-03, -1.2870e-05, -7.5595e-02,  ...,  6.9031e-02,\n",
            "           6.6047e-02, -4.1520e-02],\n",
            "         [ 5.4391e-03, -3.9585e-03,  7.2804e-02,  ..., -6.9484e-02,\n",
            "          -6.2353e-02,  3.8610e-02],\n",
            "         ...,\n",
            "         [ 7.0054e-04, -2.3378e-03,  7.3659e-02,  ..., -6.9754e-02,\n",
            "          -6.7155e-02,  3.9724e-02],\n",
            "         [-3.3913e-03,  1.6330e-03, -7.1390e-02,  ...,  7.1433e-02,\n",
            "           6.4804e-02, -3.9472e-02],\n",
            "         [ 2.9392e-03, -1.0647e-04,  7.5379e-02,  ..., -6.8924e-02,\n",
            "          -6.6943e-02,  4.0690e-02]],\n",
            "\n",
            "        [[-1.9239e-02, -4.2047e-02,  1.7226e-02,  ..., -2.4822e-02,\n",
            "          -1.1482e-01,  8.7774e-03],\n",
            "         [ 2.1675e-02,  4.0515e-02, -1.5188e-02,  ...,  2.2587e-02,\n",
            "           1.1571e-01, -5.8925e-03],\n",
            "         [-1.5770e-02, -4.1792e-02,  1.7738e-02,  ..., -2.6854e-02,\n",
            "          -1.1605e-01,  3.5202e-03],\n",
            "         ...,\n",
            "         [-2.0641e-02, -4.1577e-02,  1.7280e-02,  ..., -2.6973e-02,\n",
            "          -1.1590e-01,  6.6703e-03],\n",
            "         [-1.7507e-02, -4.2651e-02,  1.5937e-02,  ..., -2.3183e-02,\n",
            "          -1.1514e-01,  6.1264e-03],\n",
            "         [ 1.9406e-02,  4.2626e-02, -1.7468e-02,  ...,  2.3963e-02,\n",
            "           1.1880e-01, -5.7220e-03]],\n",
            "\n",
            "        [[ 3.6055e-02,  2.1442e-02,  8.4890e-02,  ..., -1.7128e-01,\n",
            "          -2.8830e-02,  7.8434e-02],\n",
            "         [-3.4036e-02, -2.4014e-02, -8.6449e-02,  ...,  1.7086e-01,\n",
            "           2.9892e-02, -7.3682e-02],\n",
            "         [ 3.4731e-02,  1.8661e-02,  8.2111e-02,  ..., -1.7500e-01,\n",
            "          -2.8258e-02,  7.7800e-02],\n",
            "         ...,\n",
            "         [ 3.3923e-02,  1.8733e-02,  8.3779e-02,  ..., -1.7472e-01,\n",
            "          -2.8474e-02,  7.5886e-02],\n",
            "         [-3.7770e-02, -1.8567e-02, -8.3240e-02,  ...,  1.7476e-01,\n",
            "           2.9217e-02, -7.7441e-02],\n",
            "         [ 3.3354e-02,  1.9473e-02,  8.3631e-02,  ..., -1.6966e-01,\n",
            "          -3.0376e-02,  7.5357e-02]]], device='cuda:0')\n",
            "blocks.0.attn.W_Q tensor([[[ 0.1352,  0.1224,  0.1431,  ...,  0.1375, -0.1508,  0.1367],\n",
            "         [ 0.1309,  0.1197,  0.1367,  ...,  0.1350, -0.1475,  0.1332],\n",
            "         [-0.1351, -0.1252, -0.1374,  ..., -0.1385,  0.1526, -0.1337],\n",
            "         ...,\n",
            "         [-0.1318, -0.1224, -0.1394,  ..., -0.1326,  0.1506, -0.1335],\n",
            "         [ 0.1299,  0.1196,  0.1339,  ...,  0.1299, -0.1476,  0.1313],\n",
            "         [-0.1297, -0.1203, -0.1387,  ..., -0.1367,  0.1498, -0.1324]],\n",
            "\n",
            "        [[-0.1462, -0.1345, -0.1515,  ..., -0.1443,  0.1547, -0.1452],\n",
            "         [-0.1461, -0.1347, -0.1491,  ..., -0.1463,  0.1527, -0.1453],\n",
            "         [ 0.1462,  0.1325,  0.1498,  ...,  0.1487, -0.1541,  0.1483],\n",
            "         ...,\n",
            "         [ 0.1454,  0.1298,  0.1477,  ...,  0.1420, -0.1515,  0.1427],\n",
            "         [-0.1469, -0.1300, -0.1478,  ..., -0.1464,  0.1553, -0.1455],\n",
            "         [ 0.1475,  0.1294,  0.1488,  ...,  0.1450, -0.1547,  0.1450]],\n",
            "\n",
            "        [[ 0.1188,  0.1373,  0.1089,  ...,  0.1178, -0.1211,  0.1208],\n",
            "         [-0.1179, -0.1330, -0.1081,  ..., -0.1164,  0.1160, -0.1168],\n",
            "         [ 0.1216,  0.1324,  0.1134,  ...,  0.1229, -0.1256,  0.1228],\n",
            "         ...,\n",
            "         [ 0.1178,  0.1359,  0.1089,  ...,  0.1177, -0.1211,  0.1216],\n",
            "         [ 0.1179,  0.1356,  0.1151,  ...,  0.1168, -0.1219,  0.1242],\n",
            "         [-0.1224, -0.1376, -0.1107,  ..., -0.1210,  0.1242, -0.1200]],\n",
            "\n",
            "        [[ 0.0936,  0.0900,  0.0903,  ...,  0.0862, -0.0505,  0.0923],\n",
            "         [-0.0894, -0.0856, -0.0908,  ..., -0.0878,  0.0522, -0.0909],\n",
            "         [ 0.0969,  0.0883,  0.0928,  ...,  0.0946, -0.0609,  0.0943],\n",
            "         ...,\n",
            "         [ 0.0964,  0.0923,  0.0928,  ...,  0.0909, -0.0589,  0.0968],\n",
            "         [-0.0956, -0.0918, -0.0922,  ..., -0.0948,  0.0562, -0.0993],\n",
            "         [ 0.0918,  0.0860,  0.0871,  ...,  0.0900, -0.0527,  0.0913]]],\n",
            "       device='cuda:0')\n",
            "blocks.0.attn.W_V tensor([[[-2.2261e-02, -3.6569e-02, -6.0917e-02,  ...,  5.5607e-03,\n",
            "          -3.3924e-02, -1.9453e-02],\n",
            "         [ 1.3217e-02,  2.4248e-02,  8.6760e-02,  ..., -4.6257e-03,\n",
            "          -5.0188e-02,  1.7636e-02],\n",
            "         [ 7.7780e-03,  5.5792e-02, -1.3049e-01,  ...,  3.1951e-03,\n",
            "           2.9703e-01, -1.8610e-02],\n",
            "         ...,\n",
            "         [ 1.1284e-03,  6.4444e-02, -8.1954e-02,  ...,  4.9536e-03,\n",
            "           3.3435e-01, -1.6284e-02],\n",
            "         [-1.6710e-02, -7.3868e-02,  3.6046e-02,  ..., -1.9683e-03,\n",
            "          -3.6450e-01,  2.6181e-03],\n",
            "         [-1.2859e-02,  4.5197e-02, -1.3643e-02,  ...,  1.1925e-03,\n",
            "           1.8982e-01, -1.0282e-02]],\n",
            "\n",
            "        [[-2.2925e-02, -1.0567e-01,  7.5487e-03,  ...,  2.3684e-04,\n",
            "          -2.7437e-02, -6.6438e-03],\n",
            "         [ 2.6337e-02,  9.4490e-02,  1.5391e-02,  ..., -2.1846e-03,\n",
            "           3.8912e-03,  2.4055e-02],\n",
            "         [ 1.5444e-02,  1.0900e-01, -9.8524e-03,  ..., -1.2948e-02,\n",
            "           3.3637e-02,  5.6208e-03],\n",
            "         ...,\n",
            "         [-4.7719e-03, -1.3379e-03,  5.9870e-02,  ...,  1.6539e-02,\n",
            "          -7.5624e-02,  2.6021e-02],\n",
            "         [ 1.4734e-02,  1.0157e-01, -9.7309e-03,  ..., -3.8418e-03,\n",
            "           2.2924e-02,  6.9726e-03],\n",
            "         [ 5.5253e-02,  1.2316e-01, -1.4510e-02,  ...,  1.0167e-02,\n",
            "           5.7424e-02,  1.3013e-02]],\n",
            "\n",
            "        [[-2.5348e-02, -3.6394e-01,  2.1674e-02,  ...,  4.5807e-03,\n",
            "          -6.4480e-02,  7.5219e-04],\n",
            "         [-1.3013e-02, -1.5751e-01, -3.5536e-02,  ...,  4.1743e-03,\n",
            "           6.2819e-03, -1.2652e-02],\n",
            "         [ 4.6469e-02,  2.6724e-01, -1.9316e-02,  ..., -5.7371e-03,\n",
            "           7.8682e-02,  1.0271e-02],\n",
            "         ...,\n",
            "         [-1.9820e-02, -3.7232e-01,  1.5771e-03,  ...,  7.7488e-03,\n",
            "          -3.7388e-02, -2.6703e-03],\n",
            "         [-1.2260e-02, -4.7746e-02,  2.5157e-02,  ..., -5.9447e-03,\n",
            "          -1.5890e-02, -1.6130e-03],\n",
            "         [-2.8427e-02, -3.2418e-01, -3.0039e-02,  ...,  3.2380e-03,\n",
            "          -4.0966e-03, -1.8128e-02]],\n",
            "\n",
            "        [[ 2.0823e-02,  4.1662e-02,  1.0232e-02,  ...,  2.9664e-03,\n",
            "           8.3202e-03,  1.3083e-02],\n",
            "         [-3.2969e-03, -3.6566e-02, -1.0945e-02,  ...,  5.0095e-03,\n",
            "           1.7245e-02, -5.7110e-03],\n",
            "         [-3.2895e-03, -1.3568e-02, -1.6449e-02,  ..., -1.7486e-02,\n",
            "           4.1319e-04, -2.7963e-03],\n",
            "         ...,\n",
            "         [ 1.6344e-02,  3.7754e-02,  2.7982e-03,  ...,  2.8304e-03,\n",
            "           2.9626e-02,  5.0870e-03],\n",
            "         [ 1.5997e-02,  2.4211e-03,  2.3820e-02,  ...,  6.3733e-03,\n",
            "          -3.7384e-02,  2.2415e-02],\n",
            "         [-4.5203e-03, -2.5875e-02,  1.6264e-02,  ..., -3.0354e-03,\n",
            "          -4.4797e-02,  4.5064e-03]]], device='cuda:0')\n",
            "blocks.0.attn.W_O tensor([[-0.1568,  0.1592, -0.1034,  ...,  0.1104, -0.0508, -0.1449],\n",
            "        [ 0.0291, -0.0493, -0.0410,  ...,  0.0840, -0.0224, -0.1190],\n",
            "        [-0.0590,  0.0654,  0.0494,  ..., -0.0637,  0.0236,  0.0958],\n",
            "        ...,\n",
            "        [ 0.1214, -0.0514, -0.0175,  ...,  0.0891,  0.0048, -0.0685],\n",
            "        [ 0.0801, -0.1172, -0.0199,  ...,  0.0732, -0.0006, -0.0751],\n",
            "        [ 0.0176,  0.0086,  0.0571,  ..., -0.0836,  0.0310,  0.1177]],\n",
            "       device='cuda:0')\n",
            "blocks.0.mlp.W_in tensor([[-8.5425e-02, -1.5361e-01,  9.2515e-02,  ..., -7.5444e-02,\n",
            "         -2.3051e-01,  8.0801e-02],\n",
            "        [ 1.4346e-01,  8.9719e-02, -5.7334e-02,  ...,  3.3347e-02,\n",
            "          3.4712e-02, -1.1562e-01],\n",
            "        [-9.3877e-02,  1.2612e-02, -1.4729e-02,  ...,  3.7562e-02,\n",
            "          5.2841e-02,  1.8318e-02],\n",
            "        ...,\n",
            "        [-6.4255e-04,  1.2435e-03, -1.6490e-04,  ..., -2.2213e-03,\n",
            "         -1.3424e-03,  9.6787e-04],\n",
            "        [ 7.8380e-02,  1.7991e-01, -3.7827e-01,  ...,  7.0466e-02,\n",
            "          1.6041e-01, -2.6224e-01],\n",
            "        [-1.8618e-03, -1.1656e-03,  5.9667e-04,  ..., -3.8635e-03,\n",
            "         -1.5532e-04, -1.3411e-03]], device='cuda:0')\n",
            "blocks.0.mlp.b_in tensor([ 1.1983e-02,  3.2369e-02,  1.7563e-02,  1.2303e-02,  1.0403e-02,\n",
            "         1.5219e-02,  1.0190e-02,  1.2704e-02,  1.6780e-02,  2.3035e-02,\n",
            "         1.2553e-02,  1.3170e-02,  5.2346e-02,  2.0045e-03,  9.8651e-03,\n",
            "         1.6472e-02,  2.1784e-02,  1.2779e-01, -7.5202e-02, -1.0223e-03,\n",
            "         1.8198e-02,  1.9152e-02,  1.2109e-02,  1.3306e-02,  1.7625e-02,\n",
            "         1.8413e-02,  1.4158e-02,  3.1364e-02, -7.6061e-02,  5.0937e-02,\n",
            "         5.4633e-02,  1.1207e-01,  6.0465e-02,  9.3840e-03,  1.3415e-02,\n",
            "         3.3047e-02, -9.2435e-02,  7.9681e-03,  1.2760e-02,  3.2611e-02,\n",
            "         1.3301e-02,  1.0733e-01, -1.1134e-02,  3.6345e-02,  1.3321e-02,\n",
            "         9.4877e-03,  1.8122e-02,  6.7203e-03,  8.0770e-03,  1.7075e-02,\n",
            "         1.4091e-02,  3.3442e-02,  1.4800e-02,  1.3950e-02,  1.7313e-02,\n",
            "         1.9445e-02,  1.4337e-02,  7.8049e-03,  4.1239e-03, -2.1939e-03,\n",
            "         4.5187e-02,  3.0731e-02,  1.1099e-02,  2.2543e-02,  9.4485e-03,\n",
            "         1.0351e-02,  1.8208e-02,  3.3338e-02,  2.0532e-02,  1.8809e-02,\n",
            "         1.5084e-02,  1.2431e-02,  1.7103e-02,  1.6875e-02,  1.3177e-02,\n",
            "        -1.1447e-03,  1.1414e-02,  8.4669e-03,  1.6323e-02,  1.7540e-02,\n",
            "         2.2701e-03,  1.7899e-02, -8.7598e-02,  3.5102e-02, -1.3086e-03,\n",
            "         1.0114e-02,  1.6032e-02, -9.8838e-03, -9.9633e-02, -5.8923e-02,\n",
            "         1.4670e-02, -4.4927e-04,  2.8846e-02,  1.2539e-02,  1.8849e-02,\n",
            "         1.9570e-02,  1.9460e-02,  6.4419e-03,  2.0616e-02,  2.3914e-02,\n",
            "         1.1204e-02,  1.2526e-02,  1.2686e-02,  3.6889e-02,  1.2395e-01,\n",
            "         1.6773e-02,  1.9700e-02,  1.2682e-02,  1.4843e-02, -1.2575e-03,\n",
            "         9.8098e-03,  1.5200e-02,  1.6579e-02,  1.1719e-02,  1.5325e-02,\n",
            "         3.3031e-02, -4.8632e-02, -9.5394e-02,  1.2011e-02,  1.0094e-02,\n",
            "        -1.4937e-02,  1.2129e-02, -1.5406e-04, -5.6345e-02, -6.6590e-02,\n",
            "         1.5757e-02,  3.3676e-02,  1.4072e-02,  1.3204e-01,  1.7465e-02,\n",
            "         1.4894e-02,  1.5097e-02,  9.7497e-03,  3.9024e-03, -6.4323e-02,\n",
            "        -8.6049e-04,  3.2613e-02,  1.5474e-02,  2.6845e-03,  1.1200e-01,\n",
            "        -3.7997e-02,  1.3081e-01,  3.1823e-02,  1.2035e-02,  1.8951e-02,\n",
            "         1.4088e-02,  1.4463e-02,  7.3582e-03,  1.6929e-02,  2.6629e-02,\n",
            "         1.4703e-02,  3.4783e-02,  9.8602e-03,  1.4655e-02, -1.0897e-02,\n",
            "         1.5336e-02,  1.2572e-01,  1.1375e-02,  1.7622e-02,  1.0247e-01,\n",
            "         1.7156e-02,  1.1262e-02,  1.7601e-02,  1.3899e-02,  1.5510e-02,\n",
            "         1.1907e-01,  1.8981e-02, -6.7077e-02,  1.7782e-02, -8.0641e-04,\n",
            "         1.7642e-02,  4.2005e-03,  2.9171e-03,  9.1252e-02,  1.9558e-02,\n",
            "         5.6320e-02,  1.4170e-02,  5.8799e-02, -9.1448e-02, -7.4477e-03,\n",
            "         1.5300e-02,  2.6956e-02,  1.6702e-02,  3.3976e-02,  3.6509e-02,\n",
            "         1.1506e-02,  1.6122e-02,  5.7659e-02,  1.8665e-02, -8.9509e-02,\n",
            "         1.3073e-02,  1.3223e-02,  2.3570e-02,  2.0261e-02,  1.4692e-02,\n",
            "         1.5122e-02,  1.5190e-02,  2.0694e-02,  2.0907e-02,  1.1109e-02,\n",
            "         2.7603e-03, -2.1516e-02,  1.6596e-02, -1.1990e-02,  1.9085e-02,\n",
            "         3.9911e-02,  1.6315e-02,  1.4674e-02,  1.0963e-02,  1.8724e-02,\n",
            "         3.0597e-02,  1.3521e-02,  3.1598e-02,  1.6706e-02,  1.0569e-02,\n",
            "         5.9382e-03,  1.6979e-02,  1.3823e-02,  1.1765e-02,  1.4569e-02,\n",
            "         6.2963e-03,  1.5920e-02,  7.8518e-03,  3.6305e-02,  1.0095e-01,\n",
            "         1.3121e-02,  3.1369e-02,  1.1663e-02,  1.0673e-01,  9.6387e-03,\n",
            "         4.0774e-03, -1.0328e-03,  1.2228e-01,  1.1607e-02,  1.1856e-02,\n",
            "         2.4972e-03,  1.2082e-01,  1.6411e-02,  1.2387e-01, -7.5196e-04,\n",
            "         5.9349e-03,  1.6964e-02,  9.1249e-03, -6.1240e-02,  1.8581e-02,\n",
            "         1.9994e-02,  9.8070e-03,  8.2703e-03,  1.2059e-02,  1.7568e-02,\n",
            "         1.5188e-02, -1.0019e-01,  1.7632e-02,  1.6860e-02,  1.8134e-02,\n",
            "         1.7235e-02,  1.5442e-02,  3.3808e-02,  2.2236e-02,  1.2918e-01,\n",
            "         1.7572e-02,  1.3545e-02, -8.6259e-02,  7.8945e-03,  1.5775e-02,\n",
            "         9.4864e-03,  3.5197e-02,  5.6539e-03,  1.8629e-02,  8.9221e-03,\n",
            "         2.7498e-02,  7.5291e-02,  1.0080e-02,  1.3888e-02,  1.5853e-02,\n",
            "        -1.4797e-03,  1.7098e-02,  1.7073e-02, -1.0113e-01,  4.7115e-03,\n",
            "         4.6819e-03,  4.7111e-03,  1.1043e-01,  1.7587e-02,  5.8378e-02,\n",
            "         6.3737e-03,  2.9482e-02,  1.4155e-02,  9.3001e-03, -7.6424e-02,\n",
            "        -1.0845e-02,  1.1494e-02,  1.3429e-02,  6.2340e-02,  1.2391e-02,\n",
            "        -9.3379e-04,  3.3973e-03,  1.0215e-02,  1.6595e-02, -4.9608e-04,\n",
            "         3.2095e-02,  1.4968e-02, -1.5467e-03,  5.2139e-03,  2.6980e-02,\n",
            "         1.0542e-02,  1.1621e-02,  1.7315e-02,  1.5519e-02,  1.3701e-02,\n",
            "         1.7820e-02,  3.8874e-03,  9.5193e-03,  1.3090e-02,  1.1437e-02,\n",
            "         1.0758e-02,  2.0193e-02,  1.8354e-02,  1.2530e-01,  1.5314e-02,\n",
            "         1.8529e-02, -7.0965e-02,  1.6384e-02,  2.5720e-04,  3.2676e-02,\n",
            "        -1.5437e-04,  2.0278e-02,  1.1583e-02,  1.0697e-01, -1.1939e-03,\n",
            "         5.2513e-02,  1.7688e-02,  1.5514e-02,  1.3918e-02,  1.5517e-02,\n",
            "         1.1378e-02,  3.3136e-04, -7.7886e-02,  1.2953e-01,  1.8467e-02,\n",
            "         1.8419e-02,  1.2065e-02,  1.0957e-02,  1.1367e-02,  1.3380e-02,\n",
            "         8.6956e-03,  1.3900e-02,  1.7497e-02,  3.4250e-02,  1.7922e-02,\n",
            "         1.3202e-02,  1.0887e-02,  9.9864e-03,  1.5910e-02, -1.6717e-03,\n",
            "         4.1221e-02,  3.6252e-02,  1.2242e-01, -8.6661e-02,  3.3346e-03,\n",
            "         1.0796e-02,  1.6105e-02, -4.1576e-03,  1.0240e-02,  1.7449e-02,\n",
            "         8.3076e-03,  1.1916e-02,  1.7445e-02, -5.8238e-02, -1.9053e-02,\n",
            "         1.7808e-02,  1.7849e-02,  1.8204e-02,  9.3498e-03,  3.7007e-02,\n",
            "         3.7406e-03,  1.6076e-02,  1.9861e-02,  1.8594e-02,  1.3465e-02,\n",
            "         9.1150e-03,  1.3339e-02,  9.8502e-03,  1.0681e-02,  5.1559e-02,\n",
            "         2.0607e-02,  1.2314e-01,  7.0647e-03,  1.5482e-02,  2.9660e-02,\n",
            "         1.7284e-02,  1.2843e-02,  1.0432e-02, -3.4301e-02,  1.7061e-02,\n",
            "         1.5503e-02,  1.8340e-02,  9.1475e-02,  1.5120e-02, -2.1846e-03,\n",
            "         9.6241e-03,  1.0538e-02,  1.1021e-02,  1.6694e-02,  1.3713e-02,\n",
            "         2.0980e-03,  1.0731e-02,  1.1694e-02,  1.6521e-02,  1.7395e-02,\n",
            "        -8.0399e-02,  5.6642e-02,  1.9487e-02,  1.1467e-02,  3.4947e-02,\n",
            "         2.9392e-02, -1.7875e-02,  2.2160e-02,  2.2174e-02,  1.6102e-02,\n",
            "        -2.9410e-02,  3.2165e-02, -7.7992e-02,  1.1454e-02,  1.1564e-04,\n",
            "         1.6581e-02,  1.4036e-02,  3.1199e-02, -9.7457e-02,  3.2685e-02,\n",
            "         1.3209e-02, -3.4028e-04,  1.7713e-02,  1.4816e-02,  1.3138e-02,\n",
            "         9.2276e-03,  1.5771e-02,  1.1133e-02, -8.2176e-02,  1.5645e-02,\n",
            "        -2.2386e-03,  3.0149e-02,  1.2113e-02,  1.2366e-02,  1.8648e-02,\n",
            "         1.0968e-02, -7.7622e-02,  1.3359e-02,  1.8850e-02,  1.3844e-02,\n",
            "         1.8683e-02,  1.2022e-02,  1.0278e-02, -5.7366e-02,  1.0839e-02,\n",
            "         1.9499e-02,  1.4486e-02,  1.0587e-01,  1.2602e-02,  1.9220e-02,\n",
            "         1.7490e-02,  1.6737e-02,  1.5337e-02,  1.9622e-02,  1.2379e-02,\n",
            "         1.5872e-02,  9.6772e-04,  1.5099e-02,  1.7456e-02,  1.1200e-02,\n",
            "         1.0996e-01,  1.8353e-02,  1.3151e-02,  1.6517e-02,  3.3486e-03,\n",
            "        -9.5398e-02,  8.9224e-03,  1.2452e-02,  1.1874e-02,  3.5438e-02,\n",
            "         1.2787e-02,  9.6310e-03,  1.5153e-02,  9.8852e-03,  8.4999e-03,\n",
            "        -1.2672e-02,  1.5267e-02, -6.5987e-04,  1.0147e-02,  3.1784e-02,\n",
            "        -6.2392e-04,  1.9929e-02, -4.2240e-04,  1.6579e-02,  1.1740e-02,\n",
            "         2.9992e-02,  1.8520e-02,  1.5325e-02,  7.5836e-02,  1.1654e-02,\n",
            "         1.4007e-02,  3.6416e-02,  1.2243e-02,  1.7873e-02,  3.1364e-02,\n",
            "        -2.6326e-04,  5.6010e-02,  9.4461e-03,  1.0168e-01, -2.3065e-03,\n",
            "         1.1920e-02, -1.7903e-03], device='cuda:0')\n",
            "blocks.0.mlp.W_out tensor([[ 5.0618e-02, -8.6849e-03, -2.1143e-01,  ...,  2.3866e-04,\n",
            "          7.6498e-02, -6.7657e-04],\n",
            "        [-9.0175e-02,  2.7271e-02,  7.2790e-02,  ...,  2.2707e-03,\n",
            "         -9.8431e-02,  3.1969e-04],\n",
            "        [ 2.2083e-01, -9.6558e-02, -3.8142e-02,  ...,  7.9603e-04,\n",
            "          1.5709e-01,  8.9672e-04],\n",
            "        ...,\n",
            "        [ 2.7642e-02,  1.0767e-01, -1.2245e-02,  ...,  3.1082e-03,\n",
            "          2.3435e-01,  7.5933e-04],\n",
            "        [ 2.5764e-03,  2.0239e-01, -1.2811e-01,  ...,  9.8023e-04,\n",
            "         -1.9041e-02,  1.0869e-03],\n",
            "        [ 2.2950e-02,  9.9810e-02, -1.8455e-02,  ..., -1.1400e-04,\n",
            "          7.9628e-02,  1.7421e-03]], device='cuda:0')\n",
            "blocks.0.mlp.b_out tensor([ 0.0156, -0.0569, -0.0057, -0.0228,  0.0081, -0.0041,  0.0053, -0.0179,\n",
            "        -0.0208, -0.0261,  0.0123,  0.0049, -0.0196, -0.0330,  0.0055, -0.0312,\n",
            "         0.0149,  0.0183, -0.0012, -0.0403, -0.0363, -0.0239,  0.0325,  0.0148,\n",
            "        -0.0127, -0.0041,  0.0491, -0.0080,  0.0742,  0.0537,  0.0055,  0.0450,\n",
            "        -0.0075,  0.0175,  0.0069,  0.0128,  0.0280,  0.0280,  0.0020, -0.0533,\n",
            "         0.0123, -0.0116,  0.0020,  0.0247,  0.0049,  0.0249,  0.0100, -0.0216,\n",
            "        -0.0397, -0.0287,  0.0308, -0.0056,  0.0324,  0.0057, -0.0399, -0.0018,\n",
            "        -0.0095,  0.0089, -0.0090,  0.0008,  0.0073,  0.0058,  0.0117, -0.0258,\n",
            "        -0.0298,  0.0202, -0.0079,  0.0456,  0.0093,  0.0223, -0.0456,  0.0154,\n",
            "        -0.0287, -0.0190, -0.0150,  0.0198, -0.0001,  0.0314,  0.0412,  0.0217,\n",
            "         0.0694, -0.0217, -0.0075,  0.0108, -0.0088, -0.0236,  0.0331, -0.0198,\n",
            "         0.0044,  0.0030,  0.0412, -0.0045,  0.0010, -0.0339,  0.0050, -0.0227,\n",
            "        -0.0022,  0.0265, -0.0008,  0.0019,  0.0052, -0.0250,  0.0264, -0.0106,\n",
            "         0.0087,  0.0381, -0.0096, -0.0451,  0.0376, -0.0394,  0.0184,  0.0351,\n",
            "        -0.0176,  0.0485,  0.0295,  0.0018, -0.0118, -0.0202,  0.0619, -0.0312,\n",
            "         0.0360, -0.0105, -0.0176, -0.0324, -0.0260, -0.0116,  0.0130, -0.0009],\n",
            "       device='cuda:0')\n",
            "unembed.W_U tensor([[-0.0397,  0.1997, -0.0229,  ..., -0.0369,  0.1354,  0.0206],\n",
            "        [ 0.1038, -0.0321, -0.0796,  ...,  0.0541, -0.0812,  0.0066],\n",
            "        [-0.1144,  0.0314, -0.1568,  ...,  0.0383,  0.0285, -0.0291],\n",
            "        ...,\n",
            "        [-0.0248,  0.0274, -0.0510,  ...,  0.1020, -0.0780, -0.0276],\n",
            "        [-0.0430,  0.0649,  0.0858,  ..., -0.0746,  0.0458,  0.0013],\n",
            "        [-0.1319,  0.0035,  0.1023,  ...,  0.0340, -0.0273, -0.0122]],\n",
            "       device='cuda:0')\n"
          ]
        }
      ]
    },
    {
      "cell_type": "markdown",
      "source": [
        "## Circularity"
      ],
      "metadata": {
        "id": "ApLojsKuBnLE"
      }
    },
    {
      "cell_type": "markdown",
      "source": [
        "### Principle Component Analysis"
      ],
      "metadata": {
        "id": "xjvwGFdRBrp7"
      }
    },
    {
      "cell_type": "code",
      "source": [
        "data = torch.tensor([[1,1,2,2,3,3],[2,3,1,3,1,2],[3,2,3,1,2,1]], dtype=float)"
      ],
      "metadata": {
        "id": "fEjUNAnhDijr"
      },
      "execution_count": null,
      "outputs": []
    },
    {
      "cell_type": "code",
      "source": [
        "print(data)\n",
        "print((data - torch.mean(data, dim = 0))/torch.std(data, dim = 0))"
      ],
      "metadata": {
        "colab": {
          "base_uri": "https://localhost:8080/"
        },
        "id": "bjSAvcD7Dl4V",
        "outputId": "0ddc8af4-674f-49c8-d878-6fe47e4bed77"
      },
      "execution_count": null,
      "outputs": [
        {
          "output_type": "stream",
          "name": "stdout",
          "text": [
            "tensor([[1., 1., 2., 2., 3., 3.],\n",
            "        [2., 3., 1., 3., 1., 2.],\n",
            "        [3., 2., 3., 1., 2., 1.]], dtype=torch.float64)\n",
            "tensor([[-1., -1.,  0.,  0.,  1.,  1.],\n",
            "        [ 0.,  1., -1.,  1., -1.,  0.],\n",
            "        [ 1.,  0.,  1., -1.,  0., -1.]], dtype=torch.float64)\n"
          ]
        }
      ]
    },
    {
      "cell_type": "code",
      "source": [
        "def PCA(matrix, num_comp):\n",
        "  mean = torch.mean(matrix, dim=0)\n",
        "  std_dev = torch.std(matrix, dim=0)\n",
        "\n",
        "  scaled_matrix = (matrix - mean)/std_dev # column-wise normalisation\n",
        "\n",
        "  U, S, V = torch.svd(scaled_matrix) # Singular Value Decomposition\n",
        "\n",
        "  return V[:, :num_comp]"
      ],
      "metadata": {
        "id": "SPdjy9JfBzjl"
      },
      "execution_count": null,
      "outputs": []
    },
    {
      "cell_type": "code",
      "source": [
        "PCA(data, 3)"
      ],
      "metadata": {
        "colab": {
          "base_uri": "https://localhost:8080/"
        },
        "id": "cMnc_vAyG-hk",
        "outputId": "7a5b0d4b-22c0-4759-faa8-2eb36a649f46"
      },
      "execution_count": null,
      "outputs": [
        {
          "output_type": "stream",
          "name": "stdout",
          "text": [
            "tensor([[-1., -1.,  0.,  0.,  1.,  1.],\n",
            "        [ 0.,  1., -1.,  1., -1.,  0.],\n",
            "        [ 1.,  0.,  1., -1.,  0., -1.]], dtype=torch.float64) tensor([1., 1., 1., 1., 1., 1.], dtype=torch.float64)\n"
          ]
        },
        {
          "output_type": "execute_result",
          "data": {
            "text/plain": [
              "tensor([[-0.5000,  0.2887, -0.1543],\n",
              "        [-0.5000, -0.2887, -0.3086],\n",
              "        [ 0.0000,  0.5774, -0.3086],\n",
              "        [ 0.0000, -0.5774,  0.3086],\n",
              "        [ 0.5000,  0.2887,  0.3086],\n",
              "        [ 0.5000, -0.2887, -0.7715]], dtype=torch.float64)"
            ]
          },
          "metadata": {},
          "execution_count": 169
        }
      ]
    },
    {
      "cell_type": "markdown",
      "source": [
        "### Circularity Calculation"
      ],
      "metadata": {
        "id": "Lf6e8qzJE6w8"
      }
    },
    {
      "cell_type": "code",
      "source": [
        "def circularity(p_comps):\n",
        "  circ_sum = 0\n",
        "  for l in range(4):\n",
        "\n",
        "    Vl = p_comps[:,l]\n",
        "    p_comp_squ_sum = torch.sum(torch.square(Vl))\n",
        "    max_mag = 0\n",
        "\n",
        "    for k in range(1,MODULUS):\n",
        "\n",
        "      vect_sum = torch.tensor([0,0], dtype=float, device=DEVICE)\n",
        "      for j in range(MODULUS):\n",
        "        angle = (2 * j * k * np.pi) / MODULUS\n",
        "        vect_sum += Vl[j] * torch.tensor([np.cos(angle), np.sin(angle)], device=DEVICE)\n",
        "      vect_mag_squ = torch.sum(torch.square(vect_sum))\n",
        "\n",
        "      if vect_mag_squ > max_mag:\n",
        "        max_mag = vect_mag_squ\n",
        "\n",
        "    circ_sum += 2 * max_mag / (MODULUS * p_comp_squ_sum)\n",
        "\n",
        "  return circ_sum / 4"
      ],
      "metadata": {
        "id": "ZV6gdGpuE-dj"
      },
      "execution_count": null,
      "outputs": []
    },
    {
      "cell_type": "markdown",
      "source": [
        "## Other Metrics"
      ],
      "metadata": {
        "id": "e1Ui2ahXG-r7"
      }
    },
    {
      "cell_type": "code",
      "source": [
        "def gradient_symmetricity(inp_out_tuples, model):\n",
        "  cossim = nn.CosineSimilarity(dim=-1, eps=1e-6)\n",
        "  cos_sim_sum = 0\n",
        "  for a,b,c in inp_out_tuples:\n",
        "    model.zero_grad()\n",
        "    model([[a,b,MODULUS]])[0,-1, c].backward()\n",
        "    a_grad = model.embed.W_E.grad[:,a]\n",
        "    b_grad = model.embed.W_E.grad[:,b]\n",
        "    #print(a_grad, b_grad)\n",
        "    cos_sim_sum += cossim(a_grad, b_grad)\n",
        "  model.zero_grad()\n",
        "  return cos_sim_sum / (len(inp_out_tuples))"
      ],
      "metadata": {
        "id": "3XKutavzt401"
      },
      "execution_count": null,
      "outputs": []
    },
    {
      "cell_type": "code",
      "source": [
        "inp_out_tuples = [(a,b,c) for a,b,c in product(range(0, MODULUS, 8), range(0, MODULUS, 9), range(0, MODULUS, 9))]"
      ],
      "metadata": {
        "id": "w933QxDu0cBP"
      },
      "execution_count": null,
      "outputs": []
    },
    {
      "cell_type": "code",
      "source": [
        "inp_out_tuples"
      ],
      "metadata": {
        "id": "Cwp-FUcu3KLo"
      },
      "execution_count": null,
      "outputs": []
    },
    {
      "cell_type": "code",
      "source": [
        "def distance_irrelevance(correct_logits):\n",
        "  std_sum = 0\n",
        "  for d in range(MODULUS):\n",
        "    std_sum += torch.std(torch.tensor([correct_logits[i,(i+d) % 59] for i in range(MODULUS)]))\n",
        "  return std_sum / (MODULUS * torch.std(correct_logits))"
      ],
      "metadata": {
        "id": "61LFg5P0HVF8"
      },
      "execution_count": null,
      "outputs": []
    },
    {
      "cell_type": "code",
      "source": [
        "def get_correct_logits(model):\n",
        "  correct_logits = torch.zeros((MODULUS, MODULUS))\n",
        "\n",
        "  for i, j in product(range(MODULUS), range(MODULUS)):\n",
        "    correct_logits[i,j] = model([[i,j,MODULUS]])[0,-1, (i + j)%MODULUS]\n",
        "\n",
        "  return correct_logits"
      ],
      "metadata": {
        "id": "TAhFMay8OjmN"
      },
      "execution_count": null,
      "outputs": []
    },
    {
      "cell_type": "code",
      "source": [
        "def get_correct_logits_sum_diff_index(model):\n",
        "  correct_logits = torch.zeros((MODULUS, MODULUS))\n",
        "\n",
        "  for i, j in product(range(MODULUS), range(MODULUS)):\n",
        "    sum = (i + j) % MODULUS\n",
        "    diff = (i - j) % MODULUS\n",
        "    correct_logits[diff,sum] = model([[i,j,MODULUS]])[0,-1, sum]\n",
        "\n",
        "  return correct_logits"
      ],
      "metadata": {
        "id": "jpjY_pxThTDa"
      },
      "execution_count": null,
      "outputs": []
    },
    {
      "cell_type": "markdown",
      "source": [
        "## Load Saved Models"
      ],
      "metadata": {
        "id": "mUCWQLf1-Mm3"
      }
    },
    {
      "cell_type": "code",
      "source": [
        "string = 'eggbacon'\n",
        "string[3:]"
      ],
      "metadata": {
        "colab": {
          "base_uri": "https://localhost:8080/",
          "height": 35
        },
        "id": "ksmjZthCB0hg",
        "outputId": "96899a91-9100-4d78-d359-4341ff349266"
      },
      "execution_count": null,
      "outputs": [
        {
          "output_type": "execute_result",
          "data": {
            "text/plain": [
              "'bacon'"
            ],
            "application/vnd.google.colaboratory.intrinsic+json": {
              "type": "string"
            }
          },
          "metadata": {},
          "execution_count": 171
        }
      ]
    },
    {
      "cell_type": "code",
      "source": [
        "all_models = {}\n",
        "pathlist = Path(\"models/models\").glob('*.pt')\n",
        "for path in pathlist:\n",
        "  path_in_str = str(path)[14:]\n",
        "  attn_rate = float(path_in_str.split('_')[0])\n",
        "  model = TransformerConfig(attn_rate = attn_rate).factory()\n",
        "  model.load_state_dict(torch.load(path))\n",
        "  model.eval()\n",
        "  model.to(DEVICE)\n",
        "  try:\n",
        "    all_models[attn_rate] += [model]\n",
        "  except:\n",
        "    all_models[attn_rate] = [model]"
      ],
      "metadata": {
        "id": "5R99ob-6-P8_"
      },
      "execution_count": null,
      "outputs": []
    },
    {
      "cell_type": "code",
      "source": [
        "all_models[0.3][0]([[4,20,59]])[0,-1].argmax()"
      ],
      "metadata": {
        "colab": {
          "base_uri": "https://localhost:8080/"
        },
        "id": "XBXANi4kCorp",
        "outputId": "c364d2bd-5fe9-40e4-9761-2f0ac2631485"
      },
      "execution_count": null,
      "outputs": [
        {
          "output_type": "execute_result",
          "data": {
            "text/plain": [
              "tensor(24, device='cuda:0')"
            ]
          },
          "metadata": {},
          "execution_count": 188
        }
      ]
    },
    {
      "cell_type": "markdown",
      "source": [
        "### Categorising Models by Circularity"
      ],
      "metadata": {
        "id": "4WexfVrPTqP9"
      }
    },
    {
      "cell_type": "code",
      "source": [
        "arr = torch.tensor([[1,2,3],[4,5,6]])\n",
        "arr[:,:-1]"
      ],
      "metadata": {
        "colab": {
          "base_uri": "https://localhost:8080/"
        },
        "id": "R7VI9HO7mV9K",
        "outputId": "c7b3f50c-71c9-4e4f-fc26-a284b86b50a1"
      },
      "execution_count": null,
      "outputs": [
        {
          "output_type": "execute_result",
          "data": {
            "text/plain": [
              "tensor([[1, 2],\n",
              "        [4, 5]])"
            ]
          },
          "metadata": {},
          "execution_count": 67
        }
      ]
    },
    {
      "cell_type": "code",
      "source": [
        "circular_models = []\n",
        "for attn_rate, model_arr in all_models.items():\n",
        "  for i in range(len(model_arr)):\n",
        "    if circularity(PCA(model_arr[i].embed.W_E[:,:-1], 4)) > 0.995: # remove last column as not number\n",
        "      circular_models.append([attn_rate, i])"
      ],
      "metadata": {
        "id": "oHPHjatyTxNd"
      },
      "execution_count": null,
      "outputs": []
    },
    {
      "cell_type": "code",
      "source": [
        "circular_models"
      ],
      "metadata": {
        "colab": {
          "base_uri": "https://localhost:8080/"
        },
        "id": "G-WD5zr8fRig",
        "outputId": "a5259ffe-fbee-4c9f-bc74-50f2692da0f0"
      },
      "execution_count": null,
      "outputs": [
        {
          "output_type": "execute_result",
          "data": {
            "text/plain": [
              "[[0.8, 5],\n",
              " [0.8, 6],\n",
              " [0.1, 2],\n",
              " [0.1, 6],\n",
              " [0.1, 7],\n",
              " [0.3, 0],\n",
              " [0.3, 1],\n",
              " [0.3, 2],\n",
              " [0.3, 3],\n",
              " [0.3, 4],\n",
              " [0.3, 6]]"
            ]
          },
          "metadata": {},
          "execution_count": 69
        }
      ]
    },
    {
      "cell_type": "code",
      "source": [
        "circularity(PCA(all_models[0.3][6].embed.W_E[:-1], 4))"
      ],
      "metadata": {
        "colab": {
          "base_uri": "https://localhost:8080/"
        },
        "id": "F0WxXxdEYdxG",
        "outputId": "b0179416-d837-4807-d3d5-dc5062c90e42"
      },
      "execution_count": null,
      "outputs": [
        {
          "output_type": "execute_result",
          "data": {
            "text/plain": [
              "tensor(0.9973, device='cuda:0', dtype=torch.float64, grad_fn=<DivBackward0>)"
            ]
          },
          "metadata": {},
          "execution_count": 71
        }
      ]
    },
    {
      "cell_type": "code",
      "source": [
        "prim_comps = PCA(all_models[0.8][5].embed.W_E[:,:-1], 4).to('cpu').detach().numpy()"
      ],
      "metadata": {
        "id": "mNIjYSKMY55m"
      },
      "execution_count": null,
      "outputs": []
    },
    {
      "cell_type": "code",
      "source": [],
      "metadata": {
        "id": "3o4BEEJkaTHu"
      },
      "execution_count": null,
      "outputs": []
    },
    {
      "cell_type": "code",
      "source": [
        "fig, ax = plt.subplots()\n",
        "ax.scatter(prim_comps[:,0], prim_comps[:,1])\n",
        "\n",
        "for i, txt in enumerate(range(MODULUS)):\n",
        "  ax.annotate(txt, (prim_comps[:,0][i], prim_comps[:,1][i]))\n",
        "\n",
        "plt.title(\"Principal Component 1 and 2 for Model 0.8_5\")\n",
        "plt.xlabel(\"Prin Comp 1\")\n",
        "plt.ylabel(\"Prin Comp 2\")\n",
        "plt.show()"
      ],
      "metadata": {
        "colab": {
          "base_uri": "https://localhost:8080/",
          "height": 472
        },
        "id": "qFDptt_BYlh-",
        "outputId": "9fd25649-c98a-4ff1-df23-ee4f464bc46c"
      },
      "execution_count": null,
      "outputs": [
        {
          "output_type": "display_data",
          "data": {
            "text/plain": [
              "<Figure size 640x480 with 1 Axes>"
            ],
            "image/png": "[encoded data removed]"
          },
          "metadata": {}
        }
      ]
    },
    {
      "cell_type": "markdown",
      "source": [
        "### Checking grad symm and dist irre for circular models"
      ],
      "metadata": {
        "id": "8pTg-w7Ze1-H"
      }
    },
    {
      "cell_type": "code",
      "source": [
        "for attn_rate, index in circular_models:\n",
        "  print(f\"{attn_rate}, {index}:\")\n",
        "  dist_irr = distance_irrelevance(get_correct_logits(all_models[attn_rate][index]))\n",
        "  grad_sym = gradient_symmetricity(inp_out_tuples, all_models[attn_rate][index])\n",
        "  print(f\"Distance Irrelevance: {dist_irr}, Gradient Symmetricity: {grad_sym}\")"
      ],
      "metadata": {
        "colab": {
          "base_uri": "https://localhost:8080/"
        },
        "id": "0lUuVx7ffB-4",
        "outputId": "7b9bea2e-70a1-4b86-d263-1bef94663828"
      },
      "execution_count": null,
      "outputs": [
        {
          "output_type": "stream",
          "name": "stdout",
          "text": [
            "0.8, 5:\n",
            "Distance Irrelevance: 0.7923503518104553, Gradient Symmetricity: 0.1602788269519806\n",
            "0.8, 6:\n",
            "Distance Irrelevance: 0.7929936647415161, Gradient Symmetricity: 0.15905827283859253\n",
            "0.1, 2:\n",
            "Distance Irrelevance: 0.6869930028915405, Gradient Symmetricity: -0.4826442003250122\n",
            "0.1, 6:\n",
            "Distance Irrelevance: 0.6753953695297241, Gradient Symmetricity: -0.4664197266101837\n",
            "0.1, 7:\n",
            "Distance Irrelevance: 0.6635627150535583, Gradient Symmetricity: -0.48099735379219055\n",
            "0.3, 0:\n",
            "Distance Irrelevance: 0.8364670872688293, Gradient Symmetricity: -0.19794289767742157\n",
            "0.3, 1:\n",
            "Distance Irrelevance: 0.9838558435440063, Gradient Symmetricity: -0.12384765595197678\n",
            "0.3, 2:\n",
            "Distance Irrelevance: 0.8353205919265747, Gradient Symmetricity: -0.04728462174534798\n",
            "0.3, 3:\n",
            "Distance Irrelevance: 0.869074285030365, Gradient Symmetricity: -0.1375124156475067\n",
            "0.3, 4:\n",
            "Distance Irrelevance: 0.9840509295463562, Gradient Symmetricity: -0.12561973929405212\n",
            "0.3, 6:\n",
            "Distance Irrelevance: 0.7417980432510376, Gradient Symmetricity: -0.13480892777442932\n"
          ]
        }
      ]
    },
    {
      "cell_type": "markdown",
      "source": [
        "According to the paper, we would classify all these models as clock, except possibly (0.1, 2), (0.1, 6) and (0.1, 7) which might just be pizzas (this coincides with the idea that low attention circular models should yield pizzas, but this clearly poor evidence to that hypothesis generally)."
      ],
      "metadata": {
        "id": "AbZ40VzZhzTh"
      }
    },
    {
      "cell_type": "code",
      "source": [
        "plt.imshow(get_correct_logits_sum_diff_index(all_models[0.1][2]).detach().numpy())\n",
        "plt.colorbar()\n",
        "plt.title('Correct Logits of attn_rate 0.1 index 2 (~pizza) Model')\n",
        "plt.xlabel(f'a+b mod {MODULUS}')\n",
        "plt.ylabel(f'a-b mod {MODULUS}')\n",
        "plt.show()"
      ],
      "metadata": {
        "colab": {
          "base_uri": "https://localhost:8080/",
          "height": 472
        },
        "id": "1dw-ftC9fFsx",
        "outputId": "a1cc700a-dd5d-4b76-edd7-dc6f3b73f71b"
      },
      "execution_count": null,
      "outputs": [
        {
          "output_type": "display_data",
          "data": {
            "text/plain": [
              "<Figure size 640x480 with 2 Axes>"
            ],
            "image/png": "[encoded data removed]"
          },
          "metadata": {}
        }
      ]
    },
    {
      "cell_type": "code",
      "source": [
        "plt.imshow(get_correct_logits_sum_diff_index(all_models[0.3][2]).detach().numpy())\n",
        "plt.title('Correct Logits of attn_rate 0.3 index 2 (~clock) Model')\n",
        "plt.xlabel(f'a+b mod {MODULUS}')\n",
        "plt.ylabel(f'a-b mod {MODULUS}')\n",
        "plt.colorbar()\n",
        "plt.show()"
      ],
      "metadata": {
        "colab": {
          "base_uri": "https://localhost:8080/",
          "height": 472
        },
        "id": "G4gU__FKgh5x",
        "outputId": "f3ad39c0-e8d8-4b35-f6f5-0630aabc9995"
      },
      "execution_count": null,
      "outputs": [
        {
          "output_type": "display_data",
          "data": {
            "text/plain": [
              "<Figure size 640x480 with 2 Axes>"
            ],
            "image/png": "[encoded data removed]"
          },
          "metadata": {}
        }
      ]
    },
    {
      "cell_type": "markdown",
      "source": [
        "Showing signs of what we'd expect: dependance on a+b for clock model and dependance on a-b for pizza model. Both models seem to be dependant on both though."
      ],
      "metadata": {
        "id": "56p49ogNkH5j"
      }
    },
    {
      "cell_type": "markdown",
      "source": [
        "## Learning Coefficient Estimation"
      ],
      "metadata": {
        "id": "DFUShHu88f5a"
      }
    },
    {
      "cell_type": "code",
      "source": [
        "def make_rlct_evals(\n",
        "    trainset: ModularArithmetic,\n",
        "    num_draws=100,\n",
        "    num_chains=5,\n",
        "    num_cores=NUM_CORES,\n",
        "    lr=1e-6,\n",
        "    noise_level=1.0,\n",
        "    weight_decay=3e-7,\n",
        "    elasticity=100.0,\n",
        "    repeats=5,\n",
        "    pbar=False,\n",
        "    device=torch.device(DEVICE),\n",
        "):\n",
        "    trainloader = torch.utils.data.DataLoader(trainset, batch_size=1024, shuffle=True)\n",
        "    optimizer_kwargs = dict(\n",
        "        lr=lr,\n",
        "        noise_level=noise_level,\n",
        "        weight_decay=weight_decay,\n",
        "        elasticity=elasticity,\n",
        "        temperature=\"adaptive\",\n",
        "        num_samples=len(trainset),\n",
        "    )\n",
        "\n",
        "    def eval_rlct(model: nn.Module):\n",
        "        return estimate_learning_coeff(\n",
        "            model,\n",
        "            trainloader,\n",
        "            cross_entropy_last_token,\n",
        "            SGLD,\n",
        "            optimizer_kwargs,\n",
        "            num_draws=num_draws,\n",
        "            num_chains=num_chains,\n",
        "            num_burnin_steps=0,\n",
        "            num_steps_bw_draws=1,\n",
        "            cores=num_cores,\n",
        "            pbar=pbar,\n",
        "            device=device\n",
        "        )\n",
        "\n",
        "    def eval_rlct_repeated(model):\n",
        "        results = {f\"rlct/{i}\": eval_rlct(model).item() for i in range(repeats)}\n",
        "        rlcts = list(results.values())\n",
        "        results[\"rlct/mean\"] = np.mean(rlcts).item()\n",
        "        results[\"rlct/std\"] = np.std(rlcts).item()\n",
        "\n",
        "        return results\n",
        "\n",
        "    return eval_rlct_repeated"
      ],
      "metadata": {
        "id": "NUGWNwBC8oBB"
      },
      "execution_count": null,
      "outputs": []
    },
    {
      "cell_type": "code",
      "source": [
        "all_models"
      ],
      "metadata": {
        "id": "70sLTYm6yhKF"
      },
      "execution_count": null,
      "outputs": []
    },
    {
      "cell_type": "code",
      "source": [
        "trainset, testset = mod_data.factory_split()"
      ],
      "metadata": {
        "id": "IkTp24GBuia-"
      },
      "execution_count": null,
      "outputs": []
    },
    {
      "cell_type": "code",
      "source": [
        "eval_rlct = make_rlct_evals(trainset=trainset)"
      ],
      "metadata": {
        "id": "D17x_gGl5DLJ"
      },
      "execution_count": null,
      "outputs": []
    },
    {
      "cell_type": "code",
      "source": [
        "model_test = all_models[0.8][5]"
      ],
      "metadata": {
        "id": "bsxMRfzl93WI"
      },
      "execution_count": null,
      "outputs": []
    },
    {
      "cell_type": "code",
      "source": [
        "rlct_dict = eval_rlct(model_test)"
      ],
      "metadata": {
        "id": "ZLvTkWoD6Hjm"
      },
      "execution_count": null,
      "outputs": []
    },
    {
      "cell_type": "code",
      "source": [
        "rlct_dict['rlct/mean']"
      ],
      "metadata": {
        "colab": {
          "base_uri": "https://localhost:8080/"
        },
        "id": "-o-0368-2RN-",
        "outputId": "ce5bd4f2-1b66-43e3-e7ef-084aa0995118"
      },
      "execution_count": null,
      "outputs": [
        {
          "output_type": "execute_result",
          "data": {
            "text/plain": [
              "10.553369540231428"
            ]
          },
          "metadata": {},
          "execution_count": 110
        }
      ]
    },
    {
      "cell_type": "code",
      "source": [
        "rlct_list = np.zeros((len(all_models.items()),))\n",
        "rlct_list"
      ],
      "metadata": {
        "colab": {
          "base_uri": "https://localhost:8080/"
        },
        "id": "6HjmdqzF2k5-",
        "outputId": "41ab43d9-a019-415f-aa25-803740abfc21"
      },
      "execution_count": null,
      "outputs": [
        {
          "output_type": "execute_result",
          "data": {
            "text/plain": [
              "array([0., 0., 0., 0., 0., 0., 0., 0., 0., 0.])"
            ]
          },
          "metadata": {},
          "execution_count": 114
        }
      ]
    },
    {
      "cell_type": "code",
      "source": [
        "rlct_dict = {}\n",
        "for attn_rate, model_arr in all_models.items():\n",
        "  for model in model_arr:\n",
        "    eval = eval_rlct(model)\n",
        "    try:\n",
        "      rlct_dict[attn_rate] += [eval]\n",
        "    except:\n",
        "      rlct_dict[attn_rate] = [eval]"
      ],
      "metadata": {
        "colab": {
          "base_uri": "https://localhost:8080/"
        },
        "id": "y5n0toPr1J7l",
        "outputId": "b48c0707-75c9-4b41-e3a8-53810e2bd4a3"
      },
      "execution_count": null,
      "outputs": [
        {
          "output_type": "stream",
          "name": "stderr",
          "text": [
            "/usr/local/lib/python3.10/dist-packages/numpy/core/_methods.py:233: RuntimeWarning: invalid value encountered in subtract\n",
            "  x = asanyarray(arr - arrmean)\n",
            "/usr/local/lib/python3.10/dist-packages/numpy/core/_methods.py:233: RuntimeWarning: invalid value encountered in subtract\n",
            "  x = asanyarray(arr - arrmean)\n"
          ]
        }
      ]
    },
    {
      "cell_type": "code",
      "source": [
        "rlct_dict"
      ],
      "metadata": {
        "colab": {
          "base_uri": "https://localhost:8080/"
        },
        "id": "KqOzvnYO-AZM",
        "outputId": "07c01871-0caa-49a9-c4b5-3aebdf112b1d"
      },
      "execution_count": null,
      "outputs": [
        {
          "output_type": "execute_result",
          "data": {
            "text/plain": [
              "{0.7: [{'rlct/0': 0.2531618174901133,\n",
              "   'rlct/1': 0.2770148616984668,\n",
              "   'rlct/2': 0.30413224108675946,\n",
              "   'rlct/3': 0.3217894309241949,\n",
              "   'rlct/4': 0.24354857355020604,\n",
              "   'rlct/mean': 0.2799293849499481,\n",
              "   'rlct/std': 0.029619595695245658},\n",
              "  {'rlct/0': 15.813119052846833,\n",
              "   'rlct/1': 13.936127139694818,\n",
              "   'rlct/2': 13.73898446086249,\n",
              "   'rlct/3': 13.952232326071007,\n",
              "   'rlct/4': 13.846441545029922,\n",
              "   'rlct/mean': 14.257380904901016,\n",
              "   'rlct/std': 0.7815685321810324},\n",
              "  {'rlct/0': 0.19588976362316637,\n",
              "   'rlct/1': 1.501546142682014,\n",
              "   'rlct/2': -0.6877662904705527,\n",
              "   'rlct/3': 3.9872856350424164,\n",
              "   'rlct/4': 1.8513002824350226,\n",
              "   'rlct/mean': 1.3696511066624133,\n",
              "   'rlct/std': 1.5944952047375327},\n",
              "  {'rlct/0': 4.971962192245642,\n",
              "   'rlct/1': 4.19950332734129,\n",
              "   'rlct/2': 3.8521074831716775,\n",
              "   'rlct/3': 4.551719567838948,\n",
              "   'rlct/4': 4.395828327700708,\n",
              "   'rlct/mean': 4.394224179659653,\n",
              "   'rlct/std': 0.37158990963537164},\n",
              "  {'rlct/0': 9.285631256632799,\n",
              "   'rlct/1': 8.454478826361962,\n",
              "   'rlct/2': 9.372193415629667,\n",
              "   'rlct/3': 8.698869643626958,\n",
              "   'rlct/4': 7.977974635681977,\n",
              "   'rlct/mean': 8.757829555586671,\n",
              "   'rlct/std': 0.5214765997421423},\n",
              "  {'rlct/0': 12.490335108525345,\n",
              "   'rlct/1': 13.894569209757355,\n",
              "   'rlct/2': 13.753616804200412,\n",
              "   'rlct/3': 13.61868837379493,\n",
              "   'rlct/4': 14.740577679785737,\n",
              "   'rlct/mean': 13.699557435212757,\n",
              "   'rlct/std': 0.7201990832611608}],\n",
              " 1.0: [{'rlct/0': 7.55359378295016,\n",
              "   'rlct/1': 7.375729549292058,\n",
              "   'rlct/2': 8.302118713446346,\n",
              "   'rlct/3': 8.051189572577771,\n",
              "   'rlct/4': 8.077724651019219,\n",
              "   'rlct/mean': 7.8720712538571105,\n",
              "   'rlct/std': 0.34845386969600906},\n",
              "  {'rlct/0': 11.68777378049421,\n",
              "   'rlct/1': 11.028930388896557,\n",
              "   'rlct/2': 10.628345645452521,\n",
              "   'rlct/3': 11.41874976658177,\n",
              "   'rlct/4': 11.355757773714753,\n",
              "   'rlct/mean': 11.22391147102796,\n",
              "   'rlct/std': 0.3642059653746329},\n",
              "  {'rlct/0': 2.2661680184863267,\n",
              "   'rlct/1': 2.4001076090573403,\n",
              "   'rlct/2': 2.3969870577370274,\n",
              "   'rlct/3': 2.655422843771373,\n",
              "   'rlct/4': 2.4046959958407,\n",
              "   'rlct/mean': 2.4246763049785534,\n",
              "   'rlct/std': 0.12660045026530006},\n",
              "  {'rlct/0': 5.670345588508818,\n",
              "   'rlct/1': 4.632227126921753,\n",
              "   'rlct/2': 4.047595847120876,\n",
              "   'rlct/3': 4.765861338320294,\n",
              "   'rlct/4': 5.236878640678648,\n",
              "   'rlct/mean': 4.870581708310078,\n",
              "   'rlct/std': 0.5511589057268517},\n",
              "  {'rlct/0': 5.398362720926976,\n",
              "   'rlct/1': 6.212368099997626,\n",
              "   'rlct/2': 5.289947517773906,\n",
              "   'rlct/3': 5.571726936503918,\n",
              "   'rlct/4': 5.422337100547424,\n",
              "   'rlct/mean': 5.57894847514997,\n",
              "   'rlct/std': 0.3292210389419331},\n",
              "  {'rlct/0': 6.2150273833289065,\n",
              "   'rlct/1': 7.534551933735845,\n",
              "   'rlct/2': 900513151758.893,\n",
              "   'rlct/3': 4.939461824925108,\n",
              "   'rlct/4': 5.605124423276602,\n",
              "   'rlct/mean': 180102630356.63742,\n",
              "   'rlct/std': 360205260701.12775},\n",
              "  {'rlct/0': 4.464428418508785,\n",
              "   'rlct/1': 5.42741293382658,\n",
              "   'rlct/2': 4.97291386301388,\n",
              "   'rlct/3': 7.255948939439511,\n",
              "   'rlct/4': 8.41687585495533e+19,\n",
              "   'rlct/mean': 1.683375170991066e+19,\n",
              "   'rlct/std': 3.366750341982132e+19},\n",
              "  {'rlct/0': 8.414550731241905,\n",
              "   'rlct/1': 8.958158225812864,\n",
              "   'rlct/2': 8.779961869281955,\n",
              "   'rlct/3': 9.020949780071584,\n",
              "   'rlct/4': 8.638108579523351,\n",
              "   'rlct/mean': 8.76234583718633,\n",
              "   'rlct/std': 0.2199659734198607},\n",
              "  {'rlct/0': 1.0608361778182465,\n",
              "   'rlct/1': 1.4487188344430915,\n",
              "   'rlct/2': 0.9710586486354249,\n",
              "   'rlct/3': 1.2016919592497137,\n",
              "   'rlct/4': 1.1081431439251177,\n",
              "   'rlct/mean': 1.158089752814319,\n",
              "   'rlct/std': 0.16327888474254246}],\n",
              " 0.8: [{'rlct/0': 11.629067328990063,\n",
              "   'rlct/1': 11.757870124647638,\n",
              "   'rlct/2': 13.094231477943874,\n",
              "   'rlct/3': 11.9785785107839,\n",
              "   'rlct/4': 10.704755932928924,\n",
              "   'rlct/mean': 11.832900675058879,\n",
              "   'rlct/std': 0.7657761555164952},\n",
              "  {'rlct/0': 6.403288085183241,\n",
              "   'rlct/1': 5.6020858932647135,\n",
              "   'rlct/2': 5.748054633906964,\n",
              "   'rlct/3': 5.508232407804528,\n",
              "   'rlct/4': 5.379317653120284,\n",
              "   'rlct/mean': 5.728195734655946,\n",
              "   'rlct/std': 0.3583706267682102},\n",
              "  {'rlct/0': 2.425858834598375,\n",
              "   'rlct/1': 1.9009549420862786,\n",
              "   'rlct/2': 1.7269213946638546,\n",
              "   'rlct/3': 1.837266912637603,\n",
              "   'rlct/4': 1.579372296797678,\n",
              "   'rlct/mean': 1.8940748761567576,\n",
              "   'rlct/std': 0.28741839130879576},\n",
              "  {'rlct/0': 2.7095132692929047,\n",
              "   'rlct/1': 2.7329381392738354,\n",
              "   'rlct/2': 3.2325749778307147,\n",
              "   'rlct/3': 2.6314438692364788,\n",
              "   'rlct/4': 2.921012077359354,\n",
              "   'rlct/mean': 2.8454964665986577,\n",
              "   'rlct/std': 0.21564401348673648},\n",
              "  {'rlct/0': 18.36238589204219,\n",
              "   'rlct/1': 18.363357461056594,\n",
              "   'rlct/2': 17.395442351195353,\n",
              "   'rlct/3': 19.571734196906434,\n",
              "   'rlct/4': 18.871398163827887,\n",
              "   'rlct/mean': 18.512863613005692,\n",
              "   'rlct/std': 0.7132152336996703},\n",
              "  {'rlct/0': 10.115269180648301,\n",
              "   'rlct/1': 10.533229224519916,\n",
              "   'rlct/2': 10.855642368083984,\n",
              "   'rlct/3': 10.50703301725681,\n",
              "   'rlct/4': 10.842713597723971,\n",
              "   'rlct/mean': 10.570777477646597,\n",
              "   'rlct/std': 0.27131468643778905},\n",
              "  {'rlct/0': 10.369427546834238,\n",
              "   'rlct/1': 10.518766059465202,\n",
              "   'rlct/2': 10.619490097887294,\n",
              "   'rlct/3': 10.499817722846682,\n",
              "   'rlct/4': 10.14000862843683,\n",
              "   'rlct/mean': 10.42950201109405,\n",
              "   'rlct/std': 0.16518062999799155},\n",
              "  {'rlct/0': 8.077293416520535,\n",
              "   'rlct/1': 7.732839727651888,\n",
              "   'rlct/2': 7.6275966277287,\n",
              "   'rlct/3': 6.8892464150055135,\n",
              "   'rlct/4': 8.00858113246667,\n",
              "   'rlct/mean': 7.667111463874662,\n",
              "   'rlct/std': 0.4232744806934929},\n",
              "  {'rlct/0': 7.234417583882372,\n",
              "   'rlct/1': 5.881647737480317,\n",
              "   'rlct/2': 7.7217662478691524,\n",
              "   'rlct/3': 7.822793355287655,\n",
              "   'rlct/4': 7.811105457792724,\n",
              "   'rlct/mean': 7.2943460764624435,\n",
              "   'rlct/std': 0.7386870526551478}],\n",
              " 0.1: [{'rlct/0': 7.905670761696775e+31,\n",
              "   'rlct/1': 4.652683682474671e+26,\n",
              "   'rlct/2': 1.3525943741206749e+26,\n",
              "   'rlct/3': 3.143745631215358e+36,\n",
              "   'rlct/4': 6.467793138634049e+28,\n",
              "   'rlct/mean': 6.287649506402869e+35,\n",
              "   'rlct/std': 1.2574903406600947e+36},\n",
              "  {'rlct/0': 2.4618895335465227e+24,\n",
              "   'rlct/1': 6.121030548012819e+28,\n",
              "   'rlct/2': 1.3512586244517297e+33,\n",
              "   'rlct/3': 6.889796214434979e+26,\n",
              "   'rlct/4': 8.709334157872943e+27,\n",
              "   'rlct/mean': 2.7026584710657575e+32,\n",
              "   'rlct/std': 5.404963891492772e+32},\n",
              "  {'rlct/0': 5.370412081282135e+30,\n",
              "   'rlct/1': 2.4154585322773614e+31,\n",
              "   'rlct/2': 3.29400414746423e+25,\n",
              "   'rlct/3': inf,\n",
              "   'rlct/4': 4.873200456646957e+38,\n",
              "   'rlct/mean': inf,\n",
              "   'rlct/std': nan},\n",
              "  {'rlct/0': 5.019990866396047e+29,\n",
              "   'rlct/1': 1.4453073112821317e+23,\n",
              "   'rlct/2': 1.927014794355488e+24,\n",
              "   'rlct/3': 2.9320189059801746e+22,\n",
              "   'rlct/4': 5.614716871666347e+24,\n",
              "   'rlct/mean': 1.004013604444382e+29,\n",
              "   'rlct/std': 2.0079886310773158e+29},\n",
              "  {'rlct/0': 8.093491316327173e+24,\n",
              "   'rlct/1': 1.532164021169013e+35,\n",
              "   'rlct/2': 8.065838877225926e+27,\n",
              "   'rlct/3': 2.5991806672364173e+26,\n",
              "   'rlct/4': 1.0138994096665486e+28,\n",
              "   'rlct/mean': 3.0643284117949166e+34,\n",
              "   'rlct/std': 6.12865589994762e+34},\n",
              "  {'rlct/0': 1.0813108110380926e+34,\n",
              "   'rlct/1': 1.4120414830445614e+30,\n",
              "   'rlct/2': 1.340137605064615e+30,\n",
              "   'rlct/3': 1.294118258105364e+39,\n",
              "   'rlct/4': 4.4393333064372977e+27,\n",
              "   'rlct/mean': 2.5882581479401854e+38,\n",
              "   'rlct/std': 5.176462216726105e+38},\n",
              "  {'rlct/0': inf,\n",
              "   'rlct/1': inf,\n",
              "   'rlct/2': 1.252224724033571e+38,\n",
              "   'rlct/3': 2.2436481260583447e+23,\n",
              "   'rlct/4': 4.0294443074474223e+37,\n",
              "   'rlct/mean': inf,\n",
              "   'rlct/std': nan},\n",
              "  {'rlct/0': 2.150731071234926e+28,\n",
              "   'rlct/1': 3.124672459139012e+36,\n",
              "   'rlct/2': 6.962228354511587e+30,\n",
              "   'rlct/3': 2.6814014770615603e+37,\n",
              "   'rlct/4': 4.60666013869008e+29,\n",
              "   'rlct/mean': 5.987738934831259e+36,\n",
              "   'rlct/std': 1.0483223534173744e+37}],\n",
              " 0.2: [{'rlct/0': 2.450071208733797e+26,\n",
              "   'rlct/1': 2.815126796296272e+33,\n",
              "   'rlct/2': 4.6161155943464e+37,\n",
              "   'rlct/3': 7.36100914572823e+28,\n",
              "   'rlct/4': 1.0243651080037138e+34,\n",
              "   'rlct/mean': 9.234842959039086e+36,\n",
              "   'rlct/std': 1.8463156872558707e+37},\n",
              "  {'rlct/0': 20.049732653910265,\n",
              "   'rlct/1': 20.84343022403993,\n",
              "   'rlct/2': 21.125839597725232,\n",
              "   'rlct/3': 20.392039619792875,\n",
              "   'rlct/4': 20.915255036963668,\n",
              "   'rlct/mean': 20.665259426486394,\n",
              "   'rlct/std': 0.3898458677541151},\n",
              "  {'rlct/0': 1.428436567899857,\n",
              "   'rlct/1': 1.4480424855205787,\n",
              "   'rlct/2': 1.5787335791827077,\n",
              "   'rlct/3': 1.6817721069806082,\n",
              "   'rlct/4': 1.4752673282523936,\n",
              "   'rlct/mean': 1.522450413567229,\n",
              "   'rlct/std': 0.09502903050857373},\n",
              "  {'rlct/0': 2.712414620292788e+23,\n",
              "   'rlct/1': 4.953990047783524e+37,\n",
              "   'rlct/2': 9.256883455339264e+26,\n",
              "   'rlct/3': 7.799706599847208e+34,\n",
              "   'rlct/4': 4.938273215189308e+35,\n",
              "   'rlct/mean': 1.0022344973255721e+37,\n",
              "   'rlct/std': 1.97596290172912e+37}],\n",
              " 0.6: [{'rlct/0': 5.63636057116918,\n",
              "   'rlct/1': 4.384852984053097,\n",
              "   'rlct/2': 5.330105265740298,\n",
              "   'rlct/3': 4.415454374272612,\n",
              "   'rlct/4': 4.748361098521798,\n",
              "   'rlct/mean': 4.903026858751398,\n",
              "   'rlct/std': 0.5000653735088423},\n",
              "  {'rlct/0': 5.794632973002122,\n",
              "   'rlct/1': 5.99524205359266,\n",
              "   'rlct/2': 6.760938376751958,\n",
              "   'rlct/3': 6.926252276607094,\n",
              "   'rlct/4': 6.671687504538285,\n",
              "   'rlct/mean': 6.429750636898424,\n",
              "   'rlct/std': 0.4487548999499739},\n",
              "  {'rlct/0': 8.789363575050466,\n",
              "   'rlct/1': 11.09874370351769,\n",
              "   'rlct/2': 9.384212796103586,\n",
              "   'rlct/3': 8.091944649066432,\n",
              "   'rlct/4': 10.109927507199169,\n",
              "   'rlct/mean': 9.494838446187469,\n",
              "   'rlct/std': 1.0420067621403144},\n",
              "  {'rlct/0': 3.6485996606027635,\n",
              "   'rlct/1': 3.1564070224479854,\n",
              "   'rlct/2': 3.569540763027893,\n",
              "   'rlct/3': 2.5212717110155785,\n",
              "   'rlct/4': 3.378164603175412,\n",
              "   'rlct/mean': 3.254796752053926,\n",
              "   'rlct/std': 0.40425330540097687},\n",
              "  {'rlct/0': 1.1305323261337128,\n",
              "   'rlct/1': 0.8545338866099511,\n",
              "   'rlct/2': 1.1058046765050096,\n",
              "   'rlct/3': 1.0905309850166998,\n",
              "   'rlct/4': 0.7535904590177779,\n",
              "   'rlct/mean': 0.9869984666566302,\n",
              "   'rlct/std': 0.1532723260538469},\n",
              "  {'rlct/0': 1.4958797176835634,\n",
              "   'rlct/1': 1.6053685606180863,\n",
              "   'rlct/2': 1.6524501112955567,\n",
              "   'rlct/3': 1.8886876330628888,\n",
              "   'rlct/4': 1.640400291121554,\n",
              "   'rlct/mean': 1.6565572627563299,\n",
              "   'rlct/std': 0.1285301380699465},\n",
              "  {'rlct/0': 0.36971286355273125,\n",
              "   'rlct/1': 0.3321242509231779,\n",
              "   'rlct/2': 0.31822751096172686,\n",
              "   'rlct/3': 0.2779344084739361,\n",
              "   'rlct/4': 0.46413986140016744,\n",
              "   'rlct/mean': 0.3524277790623479,\n",
              "   'rlct/std': 0.06310232537833507},\n",
              "  {'rlct/0': 1.795653927857131,\n",
              "   'rlct/1': 1.7931643530301455,\n",
              "   'rlct/2': 1.868538680276231,\n",
              "   'rlct/3': 1.6805826719150396,\n",
              "   'rlct/4': 2.3046780570061105,\n",
              "   'rlct/mean': 1.8885235380169316,\n",
              "   'rlct/std': 0.21658324988872674},\n",
              "  {'rlct/0': 9.85301512013488,\n",
              "   'rlct/1': 8.988666034625524,\n",
              "   'rlct/2': 9.936120556033199,\n",
              "   'rlct/3': 9.393967103472018,\n",
              "   'rlct/4': 9.072121440631927,\n",
              "   'rlct/mean': 9.44877805097951,\n",
              "   'rlct/std': 0.38922688370405756}],\n",
              " 0.4: [{'rlct/0': 3.5939594429841133,\n",
              "   'rlct/1': 3.858864261203887,\n",
              "   'rlct/2': 4.175411123266405,\n",
              "   'rlct/3': 4.159457665072759,\n",
              "   'rlct/4': 4.102360979082668,\n",
              "   'rlct/mean': 3.9780106943219664,\n",
              "   'rlct/std': 0.2231789246506429},\n",
              "  {'rlct/0': 10.684729563837651,\n",
              "   'rlct/1': 10.247555998598797,\n",
              "   'rlct/2': 10.496260910384104,\n",
              "   'rlct/3': 9.447757605256852,\n",
              "   'rlct/4': 10.111334365497937,\n",
              "   'rlct/mean': 10.197527688715068,\n",
              "   'rlct/std': 0.4239562486053715},\n",
              "  {'rlct/0': 2.9091943354555436,\n",
              "   'rlct/1': 4.084961234251392,\n",
              "   'rlct/2': 3.405437148377629,\n",
              "   'rlct/3': 3.3312288006765813,\n",
              "   'rlct/4': 3.0299161529542413,\n",
              "   'rlct/mean': 3.3521475343430778,\n",
              "   'rlct/std': 0.40995948451327036},\n",
              "  {'rlct/0': 14.202738265519201,\n",
              "   'rlct/1': 14.036128122206321,\n",
              "   'rlct/2': 14.489260876039184,\n",
              "   'rlct/3': 13.978023752111408,\n",
              "   'rlct/4': 13.457517427345499,\n",
              "   'rlct/mean': 14.032733688644322,\n",
              "   'rlct/std': 0.3379932175610359},\n",
              "  {'rlct/0': 4.64187405681747,\n",
              "   'rlct/1': 4.374414153087929,\n",
              "   'rlct/2': 5.293294285314118,\n",
              "   'rlct/3': 3.579546741269913,\n",
              "   'rlct/4': 4.071749413785227,\n",
              "   'rlct/mean': 4.392175730054931,\n",
              "   'rlct/std': 0.5723142976038085},\n",
              "  {'rlct/0': 2.5406433537829516,\n",
              "   'rlct/1': 2.368349056244859,\n",
              "   'rlct/2': 2.4828711824001126,\n",
              "   'rlct/3': 2.6384655410005635,\n",
              "   'rlct/4': 2.764967670766369,\n",
              "   'rlct/mean': 2.559059360838971,\n",
              "   'rlct/std': 0.13506870968000725},\n",
              "  {'rlct/0': 2.7904286375353196,\n",
              "   'rlct/1': 2.232659645033945,\n",
              "   'rlct/2': 2.261771158617575,\n",
              "   'rlct/3': 2.3696564338857504,\n",
              "   'rlct/4': 2.7299552412339723,\n",
              "   'rlct/mean': 2.4768942232613123,\n",
              "   'rlct/std': 0.23654687204242408},\n",
              "  {'rlct/0': 11.391712029396038,\n",
              "   'rlct/1': 12.034775515774978,\n",
              "   'rlct/2': 10.801600011445876,\n",
              "   'rlct/3': 11.147744444279395,\n",
              "   'rlct/4': 11.411791284935333,\n",
              "   'rlct/mean': 11.357524657166325,\n",
              "   'rlct/std': 0.40394116359535415}],\n",
              " 0.3: [{'rlct/0': -18.48537562645547,\n",
              "   'rlct/1': -10.595486779620375,\n",
              "   'rlct/2': -12.185979687224501,\n",
              "   'rlct/3': -18.87858628546967,\n",
              "   'rlct/4': -7.2115068552231785,\n",
              "   'rlct/mean': -13.47138704679864,\n",
              "   'rlct/std': 4.5494408342849315},\n",
              "  {'rlct/0': 12.692652756779708,\n",
              "   'rlct/1': 12.902232019829755,\n",
              "   'rlct/2': 12.80480385227952,\n",
              "   'rlct/3': 12.058332872260225,\n",
              "   'rlct/4': 13.215159006351001,\n",
              "   'rlct/mean': 12.73463610150004,\n",
              "   'rlct/std': 0.3802795882744026},\n",
              "  {'rlct/0': 28.20267579367635,\n",
              "   'rlct/1': 28.313862536006553,\n",
              "   'rlct/2': 25.6131444835233,\n",
              "   'rlct/3': 27.47254394930076,\n",
              "   'rlct/4': 26.64287854728019,\n",
              "   'rlct/mean': 27.249021061957432,\n",
              "   'rlct/std': 1.013588488620495},\n",
              "  {'rlct/0': 25.91212892930482,\n",
              "   'rlct/1': 26.253139501358728,\n",
              "   'rlct/2': 27.087850437563375,\n",
              "   'rlct/3': 26.142069797324744,\n",
              "   'rlct/4': 25.606730876941853,\n",
              "   'rlct/mean': 26.2003839084987,\n",
              "   'rlct/std': 0.4958417859069205},\n",
              "  {'rlct/0': 12.063160616824911,\n",
              "   'rlct/1': 11.913793807402659,\n",
              "   'rlct/2': 12.242331232212534,\n",
              "   'rlct/3': 11.830606488631432,\n",
              "   'rlct/4': 12.346248685761163,\n",
              "   'rlct/mean': 12.07922816616654,\n",
              "   'rlct/std': 0.1935675591518474},\n",
              "  {'rlct/0': 3.576965552546127,\n",
              "   'rlct/1': 3.2998648454445205,\n",
              "   'rlct/2': 3.2001992698075212,\n",
              "   'rlct/3': 3.267964150717078,\n",
              "   'rlct/4': 3.2953203213076594,\n",
              "   'rlct/mean': 3.328062827964581,\n",
              "   'rlct/std': 0.1294455134610547},\n",
              "  {'rlct/0': 1.639725554386195,\n",
              "   'rlct/1': 2.8255840778410612,\n",
              "   'rlct/2': 4.563137351604815,\n",
              "   'rlct/3': 2.0584345572827902,\n",
              "   'rlct/4': 2.4613991699667674,\n",
              "   'rlct/mean': 2.709656142216326,\n",
              "   'rlct/std': 1.0078992429348106}],\n",
              " 0.9: [{'rlct/0': 9.782576427638055,\n",
              "   'rlct/1': 9.09245882083983,\n",
              "   'rlct/2': 10.185423628304905,\n",
              "   'rlct/3': 8.818787325600962,\n",
              "   'rlct/4': 9.321354894907488,\n",
              "   'rlct/mean': 9.440120219458247,\n",
              "   'rlct/std': 0.4886269827083581},\n",
              "  {'rlct/0': 11.564722252686826,\n",
              "   'rlct/1': 1.2336654377025954e+17,\n",
              "   'rlct/2': 11.661401515598968,\n",
              "   'rlct/3': 5016996698408164.0,\n",
              "   'rlct/4': 11.553769918493277,\n",
              "   'rlct/mean': 2.5676708093733548e+16,\n",
              "   'rlct/std': 4.888355078149947e+16},\n",
              "  {'rlct/0': 10.850959301755424,\n",
              "   'rlct/1': 11.397187551634293,\n",
              "   'rlct/2': 11.489370681021219,\n",
              "   'rlct/3': 11.295981490716782,\n",
              "   'rlct/4': 12.393070438137133,\n",
              "   'rlct/mean': 11.485313892652972,\n",
              "   'rlct/std': 0.503995468391982},\n",
              "  {'rlct/0': 8.885204093130843,\n",
              "   'rlct/1': 9.648813228763796,\n",
              "   'rlct/2': 9.949138515742128,\n",
              "   'rlct/3': 10.3534880458036,\n",
              "   'rlct/4': 9.603307063966568,\n",
              "   'rlct/mean': 9.687990189481386,\n",
              "   'rlct/std': 0.4825468739034618},\n",
              "  {'rlct/0': 22.470748078018506,\n",
              "   'rlct/1': 24.758828083221662,\n",
              "   'rlct/2': 22.838874887438195,\n",
              "   'rlct/3': 24.650133585293332,\n",
              "   'rlct/4': 23.16229263226741,\n",
              "   'rlct/mean': 23.57617545324782,\n",
              "   'rlct/std': 0.9475161326671963},\n",
              "  {'rlct/0': 2.7410729889816468,\n",
              "   'rlct/1': 2.656358533202894,\n",
              "   'rlct/2': 3.1866103321873456,\n",
              "   'rlct/3': 2.6038634832421517,\n",
              "   'rlct/4': 2.891569560877998,\n",
              "   'rlct/mean': 2.815894979698407,\n",
              "   'rlct/std': 0.2093628803548605},\n",
              "  {'rlct/0': 14.279849211396568,\n",
              "   'rlct/1': 16.592420909268498,\n",
              "   'rlct/2': 14.199884363916533,\n",
              "   'rlct/3': 14.472047616504417,\n",
              "   'rlct/4': 15.356766570358367,\n",
              "   'rlct/mean': 14.980193734288878,\n",
              "   'rlct/std': 0.90539065666305}],\n",
              " 0.5: [{'rlct/0': 6.100084128574079,\n",
              "   'rlct/1': 6.37655849306352,\n",
              "   'rlct/2': 6.484678790716177,\n",
              "   'rlct/3': 6.518308246609857,\n",
              "   'rlct/4': 6.519673608884757,\n",
              "   'rlct/mean': 6.399860653569678,\n",
              "   'rlct/std': 0.1587375497921263},\n",
              "  {'rlct/0': 5.9910328628073835,\n",
              "   'rlct/1': 6.106757743590755,\n",
              "   'rlct/2': 7.020928835961654,\n",
              "   'rlct/3': 6.320580820804885,\n",
              "   'rlct/4': 6.427825836784143,\n",
              "   'rlct/mean': 6.373425219989764,\n",
              "   'rlct/std': 0.3584266586430217},\n",
              "  {'rlct/0': 5.772210917280173,\n",
              "   'rlct/1': 5.5927060533954425,\n",
              "   'rlct/2': 6.454612289729457,\n",
              "   'rlct/3': 6.357194341684004,\n",
              "   'rlct/4': 6.3764601563512056,\n",
              "   'rlct/mean': 6.110636751688057,\n",
              "   'rlct/std': 0.3556841722794919},\n",
              "  {'rlct/0': 7.94703183326003,\n",
              "   'rlct/1': 8.182440449993273,\n",
              "   'rlct/2': 7.787808185538545,\n",
              "   'rlct/3': 7.947814945616658,\n",
              "   'rlct/4': 9.068903944658222,\n",
              "   'rlct/mean': 8.186799871813346,\n",
              "   'rlct/std': 0.45867711363561076},\n",
              "  {'rlct/0': 8.35349576619406,\n",
              "   'rlct/1': 7.583025163355959,\n",
              "   'rlct/2': 7.268933787789494,\n",
              "   'rlct/3': 7.371410652380873,\n",
              "   'rlct/4': 7.865527869682254,\n",
              "   'rlct/mean': 7.688478647880528,\n",
              "   'rlct/std': 0.39019601109903196},\n",
              "  {'rlct/0': 21.25710841603098,\n",
              "   'rlct/1': 20.900553919178016,\n",
              "   'rlct/2': 21.772695299856114,\n",
              "   'rlct/3': 20.976247022484724,\n",
              "   'rlct/4': 21.166120900423845,\n",
              "   'rlct/mean': 21.214545111594738,\n",
              "   'rlct/std': 0.30694123866206835},\n",
              "  {'rlct/0': 0.8152274112280044,\n",
              "   'rlct/1': 0.9326477203330681,\n",
              "   'rlct/2': 0.7540894718050994,\n",
              "   'rlct/3': 0.46830580127524285,\n",
              "   'rlct/4': 0.6855952156350628,\n",
              "   'rlct/mean': 0.7311731240552956,\n",
              "   'rlct/std': 0.1545049321239352}]}"
            ]
          },
          "metadata": {},
          "execution_count": 120
        }
      ]
    },
    {
      "cell_type": "code",
      "source": [
        "circ_rlct = []\n",
        "for attn_rate, model_arr in all_models.items():\n",
        "  for i in range(len(model_arr)):\n",
        "    if 0 < rlct_dict[attn_rate][i]['rlct/mean'] < 1000:\n",
        "      circ_rlct.append([circularity(PCA(model_arr[i].embed.W_E[:,:-1], 4)), rlct_dict[attn_rate][i]])"
      ],
      "metadata": {
        "id": "31w555pr-RdB"
      },
      "execution_count": null,
      "outputs": []
    },
    {
      "cell_type": "code",
      "source": [
        "for i in range(len(circ_rlct)):\n",
        "  circ_rlct[i][1] = circ_rlct[i][1]['rlct/mean']"
      ],
      "metadata": {
        "id": "_lfuz9YTArPJ"
      },
      "execution_count": null,
      "outputs": []
    },
    {
      "cell_type": "code",
      "source": [
        "for i in range(len(circ_rlct)):\n",
        "  circ_rlct[i][0] = circ_rlct[i][0].item()"
      ],
      "metadata": {
        "id": "xWTOiXwHBlxZ"
      },
      "execution_count": null,
      "outputs": []
    },
    {
      "cell_type": "code",
      "source": [
        "circ_rlct = np.array(circ_rlct)"
      ],
      "metadata": {
        "id": "mzCBsxAFCbUy"
      },
      "execution_count": null,
      "outputs": []
    },
    {
      "cell_type": "code",
      "source": [
        "plt.scatter(circ_rlct[:,0], circ_rlct[:,1])\n",
        "plt.title('circularity vs rlct')\n",
        "plt.xlabel('circularity')\n",
        "plt.ylabel('rlct')\n",
        "plt.show()"
      ],
      "metadata": {
        "colab": {
          "base_uri": "https://localhost:8080/",
          "height": 472
        },
        "id": "rYNlCY13B_PR",
        "outputId": "a3682d93-5eef-4eb8-f8e3-791841e0b4dc"
      },
      "execution_count": null,
      "outputs": [
        {
          "output_type": "display_data",
          "data": {
            "text/plain": [
              "<Figure size 640x480 with 1 Axes>"
            ],
            "image/png": "[encoded data removed]"
          },
          "metadata": {}
        }
      ]
    }
  ]
}